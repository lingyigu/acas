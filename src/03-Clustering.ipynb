{
 "cells": [
  {
   "cell_type": "markdown",
   "metadata": {},
   "source": [
    "# Clustering"
   ]
  },
  {
   "cell_type": "markdown",
   "metadata": {},
   "source": [
    "### Dimensionality Reduction & LSA"
   ]
  },
  {
   "cell_type": "code",
   "execution_count": 1,
   "metadata": {},
   "outputs": [],
   "source": [
    "import numpy as np\n",
    "import scipy as sp\n",
    "import pandas as pd\n",
    "import json as js\n",
    "import matplotlib.pyplot as plt\n",
    "%matplotlib inline"
   ]
  },
  {
   "cell_type": "code",
   "execution_count": 111,
   "metadata": {},
   "outputs": [
    {
     "data": {
      "text/html": [
       "<div>\n",
       "<style>\n",
       "    .dataframe thead tr:only-child th {\n",
       "        text-align: right;\n",
       "    }\n",
       "\n",
       "    .dataframe thead th {\n",
       "        text-align: left;\n",
       "    }\n",
       "\n",
       "    .dataframe tbody tr th {\n",
       "        vertical-align: top;\n",
       "    }\n",
       "</style>\n",
       "<table border=\"1\" class=\"dataframe\">\n",
       "  <thead>\n",
       "    <tr style=\"text-align: right;\">\n",
       "      <th></th>\n",
       "      <th>Summary</th>\n",
       "    </tr>\n",
       "  </thead>\n",
       "  <tbody>\n",
       "    <tr>\n",
       "      <th>0</th>\n",
       "      <td>nation transport safeti board determin that pr...</td>\n",
       "    </tr>\n",
       "    <tr>\n",
       "      <th>1</th>\n",
       "      <td>nation transport safeti board determin that pr...</td>\n",
       "    </tr>\n",
       "    <tr>\n",
       "      <th>2</th>\n",
       "      <td>ntsb determin that probabl caus thi accid wa p...</td>\n",
       "    </tr>\n",
       "    <tr>\n",
       "      <th>3</th>\n",
       "      <td>ntsb determin that probabl caus thi accid wa f...</td>\n",
       "    </tr>\n",
       "    <tr>\n",
       "      <th>4</th>\n",
       "      <td>nation transport safeti board determin that pr...</td>\n",
       "    </tr>\n",
       "  </tbody>\n",
       "</table>\n",
       "</div>"
      ],
      "text/plain": [
       "                                             Summary\n",
       "0  nation transport safeti board determin that pr...\n",
       "1  nation transport safeti board determin that pr...\n",
       "2  ntsb determin that probabl caus thi accid wa p...\n",
       "3  ntsb determin that probabl caus thi accid wa f...\n",
       "4  nation transport safeti board determin that pr..."
      ]
     },
     "execution_count": 111,
     "metadata": {},
     "output_type": "execute_result"
    }
   ],
   "source": [
    "# Read report\n",
    "data = pd.read_csv(\"02-ASRS_DBOnline.csv\",index_col=0).reset_index()\n",
    "data = data.dropna(subset=['Place.3','Place.5','Report 1.2']).reset_index()[1:]\n",
    "new_report = pd.read_csv(\"02-report.csv\", index_col=0)\n",
    "new_report.head()"
   ]
  },
  {
   "cell_type": "code",
   "execution_count": 3,
   "metadata": {
    "collapsed": true
   },
   "outputs": [],
   "source": [
    "# Word reference\n",
    "word_reference = pd.read_csv(\"02-ASRS-word-reference.csv\", index_col=0)\n",
    "def lookup(word):\n",
    "    for i in range(len(word_reference)):\n",
    "        if word_reference['after'][i] == word:\n",
    "            print(word_reference['before'][i])\n",
    "            break"
   ]
  },
  {
   "cell_type": "code",
   "execution_count": 4,
   "metadata": {},
   "outputs": [
    {
     "name": "stdout",
     "output_type": "stream",
     "text": [
      "ARPTS\n"
     ]
    }
   ],
   "source": [
    "lookup('arpt')"
   ]
  },
  {
   "cell_type": "code",
   "execution_count": 5,
   "metadata": {},
   "outputs": [
    {
     "name": "stdout",
     "output_type": "stream",
     "text": [
      "(1196, 2379)\n"
     ]
    }
   ],
   "source": [
    "# Tfid Vectorizer\n",
    "from sklearn.feature_extraction.text import TfidfVectorizer\n",
    "\n",
    "vectorizer = TfidfVectorizer(stop_words='english', min_df=4, max_df=0.8)\n",
    "dtm = vectorizer.fit_transform(new_report['Summary'])\n",
    "print(dtm.shape)\n",
    "dtm_dense = dtm.todense()\n",
    "centered_dtm = dtm_dense - np.mean(dtm_dense, axis=0)\n",
    "terms = vectorizer.get_feature_names()"
   ]
  },
  {
   "cell_type": "code",
   "execution_count": 6,
   "metadata": {
    "collapsed": true
   },
   "outputs": [],
   "source": [
    "# Decide n_components\n",
    "from sklearn.decomposition import TruncatedSVD\n",
    "from sklearn.preprocessing import Normalizer\n",
    "\n",
    "svd = TruncatedSVD(n_components=100, algorithm=\"randomized\")\n",
    "svd_fit = svd.fit_transform(centered_dtm)\n",
    "svd_norm = Normalizer().fit_transform(svd_fit)\n",
    "\n",
    "vt = svd.components_\n",
    "dfnorm = pd.DataFrame(svd_norm)"
   ]
  },
  {
   "cell_type": "code",
   "execution_count": 7,
   "metadata": {},
   "outputs": [
    {
     "data": {
      "text/plain": [
       "<matplotlib.text.Text at 0x11e5bea20>"
      ]
     },
     "execution_count": 7,
     "metadata": {},
     "output_type": "execute_result"
    },
    {
     "data": {
      "image/png": "[encoded data removed]",
      "text/plain": [
       "<matplotlib.figure.Figure at 0x11a7a0da0>"
      ]
     },
     "metadata": {},
     "output_type": "display_data"
    }
   ],
   "source": [
    "s = svd.singular_values_\n",
    "plt.xlim([0,100])\n",
    "plt.plot(range(1,len(s)+1),s)\n",
    "plt.title('Singular values')\n",
    "plt.ylabel('Singular Value')\n",
    "plt.xlabel('Components')"
   ]
  },
  {
   "cell_type": "markdown",
   "metadata": {},
   "source": [
    "### decide n_components"
   ]
  },
  {
   "cell_type": "code",
   "execution_count": 80,
   "metadata": {
    "collapsed": true
   },
   "outputs": [],
   "source": [
    "from sklearn.feature_extraction.text import TfidfVectorizer\n",
    "from sklearn.decomposition import TruncatedSVD\n",
    "from sklearn.preprocessing import Normalizer\n",
    "from sklearn.preprocessing import scale"
   ]
  },
  {
   "cell_type": "code",
   "execution_count": 67,
   "metadata": {},
   "outputs": [
    {
     "name": "stdout",
     "output_type": "stream",
     "text": [
      "(1196, 2379)\n"
     ]
    }
   ],
   "source": [
    "# Tfid Vectorizer\n",
    "vectorizer = TfidfVectorizer(stop_words='english', min_df=4, max_df=0.8)\n",
    "dtm = vectorizer.fit_transform(new_report['Summary'])\n",
    "print(dtm.shape)\n",
    "dtm_dense = dtm.todense()\n",
    "centered_dtm = dtm_dense - np.mean(dtm_dense, axis=0)\n",
    "terms = vectorizer.get_feature_names()"
   ]
  },
  {
   "cell_type": "code",
   "execution_count": 69,
   "metadata": {
    "collapsed": true
   },
   "outputs": [],
   "source": [
    "svd = TruncatedSVD(n_components=5, algorithm=\"randomized\")\n",
    "svd_fit = svd.fit_transform(centered_dtm)\n",
    "svd_norm = Normalizer().fit_transform(svd_fit)\n",
    "\n",
    "vt = svd.components_\n",
    "dfnorm = pd.DataFrame(svd_norm)"
   ]
  },
  {
   "cell_type": "code",
   "execution_count": 78,
   "metadata": {},
   "outputs": [
    {
     "data": {
      "text/html": [
       "<div>\n",
       "<style>\n",
       "    .dataframe thead tr:only-child th {\n",
       "        text-align: right;\n",
       "    }\n",
       "\n",
       "    .dataframe thead th {\n",
       "        text-align: left;\n",
       "    }\n",
       "\n",
       "    .dataframe tbody tr th {\n",
       "        vertical-align: top;\n",
       "    }\n",
       "</style>\n",
       "<table border=\"1\" class=\"dataframe\">\n",
       "  <thead>\n",
       "    <tr>\n",
       "      <th></th>\n",
       "      <th>ft</th>\n",
       "      <th>acft</th>\n",
       "      <th>tfc</th>\n",
       "      <th>tcasii</th>\n",
       "      <th>apch</th>\n",
       "    </tr>\n",
       "    <tr>\n",
       "      <th></th>\n",
       "      <th>tcasii</th>\n",
       "      <th>ft</th>\n",
       "      <th>ra</th>\n",
       "      <th>clb</th>\n",
       "      <th>tfc</th>\n",
       "    </tr>\n",
       "    <tr>\n",
       "      <th></th>\n",
       "      <th>approach</th>\n",
       "      <th>crew</th>\n",
       "      <th>descent</th>\n",
       "      <th>visual</th>\n",
       "      <th>captain</th>\n",
       "    </tr>\n",
       "    <tr>\n",
       "      <th></th>\n",
       "      <th>acr</th>\n",
       "      <th>sector</th>\n",
       "      <th>radar</th>\n",
       "      <th>issu</th>\n",
       "      <th>ctlr</th>\n",
       "    </tr>\n",
       "    <tr>\n",
       "      <th></th>\n",
       "      <th>failur</th>\n",
       "      <th>flight</th>\n",
       "      <th>pilot</th>\n",
       "      <th>engin</th>\n",
       "      <th>aviat</th>\n",
       "    </tr>\n",
       "  </thead>\n",
       "  <tbody>\n",
       "    <tr>\n",
       "      <th>0</th>\n",
       "      <td>-0.715418</td>\n",
       "      <td>0.234395</td>\n",
       "      <td>0.507542</td>\n",
       "      <td>0.296234</td>\n",
       "      <td>0.296450</td>\n",
       "    </tr>\n",
       "    <tr>\n",
       "      <th>1</th>\n",
       "      <td>-0.730629</td>\n",
       "      <td>-0.015913</td>\n",
       "      <td>-0.252078</td>\n",
       "      <td>-0.402283</td>\n",
       "      <td>-0.490463</td>\n",
       "    </tr>\n",
       "    <tr>\n",
       "      <th>2</th>\n",
       "      <td>-0.988305</td>\n",
       "      <td>-0.048161</td>\n",
       "      <td>0.126737</td>\n",
       "      <td>-0.033796</td>\n",
       "      <td>-0.061065</td>\n",
       "    </tr>\n",
       "    <tr>\n",
       "      <th>3</th>\n",
       "      <td>-0.870257</td>\n",
       "      <td>-0.009522</td>\n",
       "      <td>-0.213229</td>\n",
       "      <td>0.098409</td>\n",
       "      <td>0.432909</td>\n",
       "    </tr>\n",
       "    <tr>\n",
       "      <th>4</th>\n",
       "      <td>-0.871423</td>\n",
       "      <td>-0.125101</td>\n",
       "      <td>-0.466808</td>\n",
       "      <td>-0.011973</td>\n",
       "      <td>0.083182</td>\n",
       "    </tr>\n",
       "  </tbody>\n",
       "</table>\n",
       "</div>"
      ],
      "text/plain": [
       "         ft      acft       tfc    tcasii      apch\n",
       "     tcasii        ft        ra       clb       tfc\n",
       "   approach      crew   descent    visual   captain\n",
       "        acr    sector     radar      issu      ctlr\n",
       "     failur    flight     pilot     engin     aviat\n",
       "0 -0.715418  0.234395  0.507542  0.296234  0.296450\n",
       "1 -0.730629 -0.015913 -0.252078 -0.402283 -0.490463\n",
       "2 -0.988305 -0.048161  0.126737 -0.033796 -0.061065\n",
       "3 -0.870257 -0.009522 -0.213229  0.098409  0.432909\n",
       "4 -0.871423 -0.125101 -0.466808 -0.011973  0.083182"
      ]
     },
     "execution_count": 78,
     "metadata": {},
     "output_type": "execute_result"
    }
   ],
   "source": [
    "order_components = vt.argsort()[:, ::-1]\n",
    "components = []\n",
    "for i in range(vt.shape[0]):\n",
    "    label = [terms[ind] for ind in order_components[i, :5]]\n",
    "    components.append(label)\n",
    "dfnorm.columns = components\n",
    "dfnorm.head()"
   ]
  },
  {
   "cell_type": "code",
   "execution_count": 110,
   "metadata": {},
   "outputs": [
    {
     "data": {
      "text/plain": [
       "[['ft', 'acft', 'tfc', 'tcasii', 'apch'],\n",
       " ['tcasii', 'ft', 'ra', 'clb', 'tfc'],\n",
       " ['approach', 'crew', 'descent', 'visual', 'captain'],\n",
       " ['acr', 'sector', 'radar', 'issu', 'ctlr'],\n",
       " ['failur', 'flight', 'pilot', 'engin', 'aviat']]"
      ]
     },
     "execution_count": 110,
     "metadata": {},
     "output_type": "execute_result"
    }
   ],
   "source": [
    "components"
   ]
  },
  {
   "cell_type": "markdown",
   "metadata": {},
   "source": [
    "Full forms of the above abbreviations:\n",
    "1. aircaft, error, standard, system, separation, between, Less Than Standard Separation\n",
    "2. control, boston air route traffic control center, experience, operator, at, separation, standard, feet\n",
    "3. Traffic Alert and Collision Avoidance, to, alert, aircaft, Resolution Advisory, Less Than Standard Separation, assign, descdent\n",
    "4. runways, on, aircraft, approach, experience, Less Than Standard Separation, operator, error\n",
    "5. Resolution Advisory, Traffic Alert and Collision Avoidance, report, crew, aircraft, approach runway, control"
   ]
  },
  {
   "cell_type": "markdown",
   "metadata": {},
   "source": [
    "1. Near mid air collision, , , Pattern\n",
    "2. aircraft, error, standard, Near mid air collision,\n",
    "3. separate, \n",
    "4.\n",
    "5."
   ]
  },
  {
   "cell_type": "code",
   "execution_count": 112,
   "metadata": {},
   "outputs": [
    {
     "name": "stdout",
     "output_type": "stream",
     "text": [
      "(571, 7)\n"
     ]
    },
    {
     "name": "stderr",
     "output_type": "stream",
     "text": [
      "/Users/aslstem/anaconda/lib/python3.6/site-packages/pandas/core/reshape/merge.py:551: UserWarning: merging between different levels can give an unintended result (1 levels on the left, 5 on the right)\n",
      "  warnings.warn(msg, UserWarning)\n"
     ]
    },
    {
     "data": {
      "text/html": [
       "<div>\n",
       "<style>\n",
       "    .dataframe thead tr:only-child th {\n",
       "        text-align: right;\n",
       "    }\n",
       "\n",
       "    .dataframe thead th {\n",
       "        text-align: left;\n",
       "    }\n",
       "\n",
       "    .dataframe tbody tr th {\n",
       "        vertical-align: top;\n",
       "    }\n",
       "</style>\n",
       "<table border=\"1\" class=\"dataframe\">\n",
       "  <thead>\n",
       "    <tr style=\"text-align: right;\">\n",
       "      <th></th>\n",
       "      <th>lat</th>\n",
       "      <th>dis</th>\n",
       "      <th>(ft, tcasii, approach, acr, failur)</th>\n",
       "      <th>(acft, ft, crew, sector, flight)</th>\n",
       "      <th>(tfc, ra, descent, radar, pilot)</th>\n",
       "      <th>(tcasii, clb, visual, issu, engin)</th>\n",
       "      <th>(apch, tfc, captain, ctlr, aviat)</th>\n",
       "    </tr>\n",
       "  </thead>\n",
       "  <tbody>\n",
       "    <tr>\n",
       "      <th>0</th>\n",
       "      <td>-0.214551</td>\n",
       "      <td>-0.640337</td>\n",
       "      <td>-0.715418</td>\n",
       "      <td>0.234395</td>\n",
       "      <td>0.507542</td>\n",
       "      <td>0.296234</td>\n",
       "      <td>0.296450</td>\n",
       "    </tr>\n",
       "    <tr>\n",
       "      <th>1</th>\n",
       "      <td>0.237947</td>\n",
       "      <td>-0.373952</td>\n",
       "      <td>-0.730629</td>\n",
       "      <td>-0.015913</td>\n",
       "      <td>-0.252078</td>\n",
       "      <td>-0.402283</td>\n",
       "      <td>-0.490463</td>\n",
       "    </tr>\n",
       "    <tr>\n",
       "      <th>2</th>\n",
       "      <td>-0.458203</td>\n",
       "      <td>-0.866764</td>\n",
       "      <td>-0.988305</td>\n",
       "      <td>-0.048161</td>\n",
       "      <td>0.126737</td>\n",
       "      <td>-0.033796</td>\n",
       "      <td>-0.061065</td>\n",
       "    </tr>\n",
       "    <tr>\n",
       "      <th>3</th>\n",
       "      <td>-0.005706</td>\n",
       "      <td>-0.507144</td>\n",
       "      <td>-0.870257</td>\n",
       "      <td>-0.009522</td>\n",
       "      <td>-0.213229</td>\n",
       "      <td>0.098409</td>\n",
       "      <td>0.432909</td>\n",
       "    </tr>\n",
       "    <tr>\n",
       "      <th>4</th>\n",
       "      <td>-0.458203</td>\n",
       "      <td>-0.733571</td>\n",
       "      <td>-0.871423</td>\n",
       "      <td>-0.125101</td>\n",
       "      <td>-0.466808</td>\n",
       "      <td>-0.011973</td>\n",
       "      <td>0.083182</td>\n",
       "    </tr>\n",
       "  </tbody>\n",
       "</table>\n",
       "</div>"
      ],
      "text/plain": [
       "        lat       dis  (ft, tcasii, approach, acr, failur)  \\\n",
       "0 -0.214551 -0.640337                            -0.715418   \n",
       "1  0.237947 -0.373952                            -0.730629   \n",
       "2 -0.458203 -0.866764                            -0.988305   \n",
       "3 -0.005706 -0.507144                            -0.870257   \n",
       "4 -0.458203 -0.733571                            -0.871423   \n",
       "\n",
       "   (acft, ft, crew, sector, flight)  (tfc, ra, descent, radar, pilot)  \\\n",
       "0                          0.234395                          0.507542   \n",
       "1                         -0.015913                         -0.252078   \n",
       "2                         -0.048161                          0.126737   \n",
       "3                         -0.009522                         -0.213229   \n",
       "4                         -0.125101                         -0.466808   \n",
       "\n",
       "   (tcasii, clb, visual, issu, engin)  (apch, tfc, captain, ctlr, aviat)  \n",
       "0                            0.296234                           0.296450  \n",
       "1                           -0.402283                          -0.490463  \n",
       "2                           -0.033796                          -0.061065  \n",
       "3                            0.098409                           0.432909  \n",
       "4                           -0.011973                           0.083182  "
      ]
     },
     "execution_count": 112,
     "metadata": {},
     "output_type": "execute_result"
    }
   ],
   "source": [
    "dfloc = pd.DataFrame(scale(data[['Place.3', 'Place.5']]), columns=['lat', 'dis'])\n",
    "df_features = dfloc.join(dfnorm)\n",
    "print(df_features.shape)\n",
    "df_features.head()"
   ]
  },
  {
   "cell_type": "markdown",
   "metadata": {},
   "source": [
    "# Analysis"
   ]
  },
  {
   "cell_type": "markdown",
   "metadata": {},
   "source": [
    "1. midair collision sma has pattern / less than standard separation system error oppuacied\n",
    "2. aircarrier error standard midair collision / in separate standard aircraft\n",
    "3. nmac operator "
   ]
  }
 ],
 "metadata": {
  "kernelspec": {
   "display_name": "Python 3",
   "language": "python",
   "name": "python3"
  },
  "language_info": {
   "codemirror_mode": {
    "name": "ipython",
    "version": 3
   },
   "file_extension": ".py",
   "mimetype": "text/x-python",
   "name": "python",
   "nbconvert_exporter": "python",
   "pygments_lexer": "ipython3",
   "version": "3.6.1"
  }
 },
 "nbformat": 4,
 "nbformat_minor": 2
}
