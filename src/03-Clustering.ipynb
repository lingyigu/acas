{
 "cells": [
  {
   "cell_type": "markdown",
   "metadata": {},
   "source": [
    "# Clustering"
   ]
  },
  {
   "cell_type": "markdown",
   "metadata": {},
   "source": [
    "### Dimensionality Reduction & LSA"
   ]
  },
  {
   "cell_type": "code",
   "execution_count": 15,
   "metadata": {},
   "outputs": [],
   "source": [
    "import numpy as np\n",
    "import scipy as sp\n",
    "import pandas as pd\n",
    "import json as js\n",
    "import matplotlib.pyplot as plt\n",
    "%matplotlib inline"
   ]
  },
  {
   "cell_type": "code",
   "execution_count": 16,
   "metadata": {},
   "outputs": [
    {
     "data": {
      "text/html": [
       "<div>\n",
       "<style>\n",
       "    .dataframe thead tr:only-child th {\n",
       "        text-align: right;\n",
       "    }\n",
       "\n",
       "    .dataframe thead th {\n",
       "        text-align: left;\n",
       "    }\n",
       "\n",
       "    .dataframe tbody tr th {\n",
       "        vertical-align: top;\n",
       "    }\n",
       "</style>\n",
       "<table border=\"1\" class=\"dataframe\">\n",
       "  <thead>\n",
       "    <tr style=\"text-align: right;\">\n",
       "      <th></th>\n",
       "      <th>Summary</th>\n",
       "    </tr>\n",
       "  </thead>\n",
       "  <tbody>\n",
       "    <tr>\n",
       "      <th>0</th>\n",
       "      <td>nation transport safeti board determin that pr...</td>\n",
       "    </tr>\n",
       "    <tr>\n",
       "      <th>1</th>\n",
       "      <td>nation transport safeti board determin that pr...</td>\n",
       "    </tr>\n",
       "    <tr>\n",
       "      <th>2</th>\n",
       "      <td>ntsb determin that probabl caus thi accid wa p...</td>\n",
       "    </tr>\n",
       "    <tr>\n",
       "      <th>3</th>\n",
       "      <td>ntsb determin that probabl caus thi accid wa f...</td>\n",
       "    </tr>\n",
       "    <tr>\n",
       "      <th>4</th>\n",
       "      <td>nation transport safeti board determin that pr...</td>\n",
       "    </tr>\n",
       "  </tbody>\n",
       "</table>\n",
       "</div>"
      ],
      "text/plain": [
       "                                             Summary\n",
       "0  nation transport safeti board determin that pr...\n",
       "1  nation transport safeti board determin that pr...\n",
       "2  ntsb determin that probabl caus thi accid wa p...\n",
       "3  ntsb determin that probabl caus thi accid wa f...\n",
       "4  nation transport safeti board determin that pr..."
      ]
     },
     "execution_count": 16,
     "metadata": {},
     "output_type": "execute_result"
    }
   ],
   "source": [
    "# Read report\n",
    "data = pd.read_csv(\"02-ASRS_DBOnline.csv\",index_col=0).reset_index()\n",
    "data = data.dropna(subset=['Place.3','Place.5','Report 1.2']).reset_index()[1:]\n",
    "new_report = pd.read_csv(\"02-report.csv\", index_col=0)\n",
    "new_report.head()"
   ]
  },
  {
   "cell_type": "code",
   "execution_count": 17,
   "metadata": {
    "collapsed": true
   },
   "outputs": [],
   "source": [
    "# Word reference\n",
    "word_reference = pd.read_csv(\"02-ASRS-word-reference.csv\", index_col=0)\n",
    "def lookup(word):\n",
    "    for i in range(len(word_reference)):\n",
    "        if word_reference['after'][i] == word:\n",
    "            print(word_reference['before'][i])\n",
    "            break"
   ]
  },
  {
   "cell_type": "code",
   "execution_count": 18,
   "metadata": {},
   "outputs": [
    {
     "name": "stdout",
     "output_type": "stream",
     "text": [
      "ARPTS\n"
     ]
    }
   ],
   "source": [
    "lookup('arpt')"
   ]
  },
  {
   "cell_type": "code",
   "execution_count": 19,
   "metadata": {},
   "outputs": [
    {
     "name": "stdout",
     "output_type": "stream",
     "text": [
      "(1196, 2379)\n"
     ]
    }
   ],
   "source": [
    "# Tfid Vectorizer\n",
    "from sklearn.feature_extraction.text import TfidfVectorizer\n",
    "\n",
    "vectorizer = TfidfVectorizer(stop_words='english', min_df=4, max_df=0.8)\n",
    "dtm = vectorizer.fit_transform(new_report['Summary'])\n",
    "print(dtm.shape)\n",
    "dtm_dense = dtm.todense()\n",
    "centered_dtm = dtm_dense - np.mean(dtm_dense, axis=0)\n",
    "terms = vectorizer.get_feature_names()"
   ]
  },
  {
   "cell_type": "code",
   "execution_count": 20,
   "metadata": {
    "collapsed": true
   },
   "outputs": [],
   "source": [
    "# Decide n_components\n",
    "from sklearn.decomposition import TruncatedSVD\n",
    "from sklearn.preprocessing import Normalizer\n",
    "\n",
    "svd = TruncatedSVD(n_components=100, algorithm=\"randomized\")\n",
    "svd_fit = svd.fit_transform(centered_dtm)\n",
    "svd_norm = Normalizer().fit_transform(svd_fit)\n",
    "\n",
    "vt = svd.components_\n",
    "dfnorm = pd.DataFrame(svd_norm)"
   ]
  },
  {
   "cell_type": "code",
   "execution_count": 21,
   "metadata": {},
   "outputs": [
    {
     "data": {
      "text/plain": [
       "<matplotlib.text.Text at 0x11b6600b8>"
      ]
     },
     "execution_count": 21,
     "metadata": {},
     "output_type": "execute_result"
    },
    {
     "data": {
      "image/png": "[encoded data removed]",
      "text/plain": [
       "<matplotlib.figure.Figure at 0x126b44da0>"
      ]
     },
     "metadata": {},
     "output_type": "display_data"
    }
   ],
   "source": [
    "s = svd.singular_values_\n",
    "plt.xlim([0,100])\n",
    "plt.plot(range(1,len(s)+1),s)\n",
    "plt.title('Singular values')\n",
    "plt.ylabel('Singular Value')\n",
    "plt.xlabel('Components')"
   ]
  },
  {
   "cell_type": "markdown",
   "metadata": {},
   "source": [
    "### decide n_components"
   ]
  },
  {
   "cell_type": "code",
   "execution_count": 22,
   "metadata": {
    "collapsed": true
   },
   "outputs": [],
   "source": [
    "from sklearn.feature_extraction.text import TfidfVectorizer\n",
    "from sklearn.decomposition import TruncatedSVD\n",
    "from sklearn.preprocessing import Normalizer\n",
    "from sklearn.preprocessing import scale"
   ]
  },
  {
   "cell_type": "code",
   "execution_count": 23,
   "metadata": {},
   "outputs": [
    {
     "name": "stdout",
     "output_type": "stream",
     "text": [
      "(1196, 2379)\n"
     ]
    }
   ],
   "source": [
    "# Tfid Vectorizer\n",
    "vectorizer = TfidfVectorizer(stop_words='english', min_df=4, max_df=0.8)\n",
    "dtm = vectorizer.fit_transform(new_report['Summary'])\n",
    "print(dtm.shape)\n",
    "dtm_dense = dtm.todense()\n",
    "centered_dtm = dtm_dense - np.mean(dtm_dense, axis=0)\n",
    "terms = vectorizer.get_feature_names()"
   ]
  },
  {
   "cell_type": "code",
   "execution_count": 110,
   "metadata": {
    "collapsed": true
   },
   "outputs": [],
   "source": [
    "svd = TruncatedSVD(n_components=10, algorithm=\"randomized\")\n",
    "svd_fit = svd.fit_transform(centered_dtm)\n",
    "svd_norm = Normalizer().fit_transform(svd_fit)\n",
    "\n",
    "vt = svd.components_\n",
    "dfnorm = pd.DataFrame(svd_norm)"
   ]
  },
  {
   "cell_type": "code",
   "execution_count": 111,
   "metadata": {},
   "outputs": [
    {
     "data": {
      "text/html": [
       "<div>\n",
       "<style>\n",
       "    .dataframe thead tr:only-child th {\n",
       "        text-align: right;\n",
       "    }\n",
       "\n",
       "    .dataframe thead th {\n",
       "        text-align: left;\n",
       "    }\n",
       "\n",
       "    .dataframe tbody tr th {\n",
       "        vertical-align: top;\n",
       "    }\n",
       "</style>\n",
       "<table border=\"1\" class=\"dataframe\">\n",
       "  <thead>\n",
       "    <tr>\n",
       "      <th></th>\n",
       "      <th>ft</th>\n",
       "      <th>acft</th>\n",
       "      <th>tfc</th>\n",
       "      <th>tcasii</th>\n",
       "      <th>apch</th>\n",
       "      <th>acr</th>\n",
       "      <th>turn</th>\n",
       "      <th>clb</th>\n",
       "      <th>ra</th>\n",
       "      <th>ctlr</th>\n",
       "    </tr>\n",
       "    <tr>\n",
       "      <th></th>\n",
       "      <th>tcasii</th>\n",
       "      <th>ft</th>\n",
       "      <th>ra</th>\n",
       "      <th>clb</th>\n",
       "      <th>tfc</th>\n",
       "      <th>crew</th>\n",
       "      <th>flight</th>\n",
       "      <th>atc</th>\n",
       "      <th>visual</th>\n",
       "      <th>failur</th>\n",
       "    </tr>\n",
       "    <tr>\n",
       "      <th></th>\n",
       "      <th>approach</th>\n",
       "      <th>crew</th>\n",
       "      <th>descent</th>\n",
       "      <th>visual</th>\n",
       "      <th>captain</th>\n",
       "      <th>land</th>\n",
       "      <th>instrument</th>\n",
       "      <th>altitud</th>\n",
       "      <th>runway</th>\n",
       "      <th>flight</th>\n",
       "    </tr>\n",
       "    <tr>\n",
       "      <th></th>\n",
       "      <th>acr</th>\n",
       "      <th>sector</th>\n",
       "      <th>radar</th>\n",
       "      <th>issu</th>\n",
       "      <th>ctlr</th>\n",
       "      <th>separ</th>\n",
       "      <th>flight</th>\n",
       "      <th>crew</th>\n",
       "      <th>standard</th>\n",
       "      <th>hdg</th>\n",
       "    </tr>\n",
       "    <tr>\n",
       "      <th></th>\n",
       "      <th>failur</th>\n",
       "      <th>flight</th>\n",
       "      <th>engin</th>\n",
       "      <th>pilot</th>\n",
       "      <th>fuel</th>\n",
       "      <th>aviat</th>\n",
       "      <th>oper</th>\n",
       "      <th>mainten</th>\n",
       "      <th>feder</th>\n",
       "      <th>stall</th>\n",
       "    </tr>\n",
       "    <tr>\n",
       "      <th></th>\n",
       "      <th>pilot</th>\n",
       "      <th>helicopt</th>\n",
       "      <th>oper</th>\n",
       "      <th>condit</th>\n",
       "      <th>weather</th>\n",
       "      <th>terrain</th>\n",
       "      <th>aircraft</th>\n",
       "      <th>aviat</th>\n",
       "      <th>lack</th>\n",
       "      <th>feder</th>\n",
       "    </tr>\n",
       "    <tr>\n",
       "      <th></th>\n",
       "      <th>pilot</th>\n",
       "      <th>nation</th>\n",
       "      <th>transport</th>\n",
       "      <th>acr</th>\n",
       "      <th>undetermin</th>\n",
       "      <th>safeti</th>\n",
       "      <th>turn</th>\n",
       "      <th>airplan</th>\n",
       "      <th>accid</th>\n",
       "      <th>helicopt</th>\n",
       "    </tr>\n",
       "    <tr>\n",
       "      <th></th>\n",
       "      <th>takeoff</th>\n",
       "      <th>airplan</th>\n",
       "      <th>ice</th>\n",
       "      <th>runway</th>\n",
       "      <th>stall</th>\n",
       "      <th>pilot</th>\n",
       "      <th>ground</th>\n",
       "      <th>dure</th>\n",
       "      <th>captain</th>\n",
       "      <th>weight</th>\n",
       "    </tr>\n",
       "    <tr>\n",
       "      <th></th>\n",
       "      <th>flight</th>\n",
       "      <th>control</th>\n",
       "      <th>crew</th>\n",
       "      <th>fuel</th>\n",
       "      <th>clearanc</th>\n",
       "      <th>terrain</th>\n",
       "      <th>instrument</th>\n",
       "      <th>aircraft</th>\n",
       "      <th>stall</th>\n",
       "      <th>rudder</th>\n",
       "    </tr>\n",
       "    <tr>\n",
       "      <th></th>\n",
       "      <th>fuel</th>\n",
       "      <th>engin</th>\n",
       "      <th>pilot</th>\n",
       "      <th>instrument</th>\n",
       "      <th>improp</th>\n",
       "      <th>power</th>\n",
       "      <th>dure</th>\n",
       "      <th>ground</th>\n",
       "      <th>descent</th>\n",
       "      <th>loss</th>\n",
       "    </tr>\n",
       "  </thead>\n",
       "  <tbody>\n",
       "    <tr>\n",
       "      <th>0</th>\n",
       "      <td>-0.664266</td>\n",
       "      <td>0.221904</td>\n",
       "      <td>0.463062</td>\n",
       "      <td>0.289839</td>\n",
       "      <td>0.259371</td>\n",
       "      <td>0.211192</td>\n",
       "      <td>-0.024796</td>\n",
       "      <td>-0.013954</td>\n",
       "      <td>-0.238438</td>\n",
       "      <td>-0.203811</td>\n",
       "    </tr>\n",
       "    <tr>\n",
       "      <th>1</th>\n",
       "      <td>-0.522943</td>\n",
       "      <td>-0.011714</td>\n",
       "      <td>-0.180939</td>\n",
       "      <td>-0.270614</td>\n",
       "      <td>-0.325079</td>\n",
       "      <td>-0.312903</td>\n",
       "      <td>0.264665</td>\n",
       "      <td>0.580730</td>\n",
       "      <td>0.022309</td>\n",
       "      <td>-0.095104</td>\n",
       "    </tr>\n",
       "    <tr>\n",
       "      <th>2</th>\n",
       "      <td>-0.461617</td>\n",
       "      <td>-0.023182</td>\n",
       "      <td>0.053769</td>\n",
       "      <td>-0.007560</td>\n",
       "      <td>-0.030623</td>\n",
       "      <td>0.236462</td>\n",
       "      <td>-0.043043</td>\n",
       "      <td>0.820478</td>\n",
       "      <td>0.204504</td>\n",
       "      <td>-0.098554</td>\n",
       "    </tr>\n",
       "    <tr>\n",
       "      <th>3</th>\n",
       "      <td>-0.602707</td>\n",
       "      <td>-0.005345</td>\n",
       "      <td>-0.146715</td>\n",
       "      <td>0.076973</td>\n",
       "      <td>0.331947</td>\n",
       "      <td>-0.077547</td>\n",
       "      <td>-0.483977</td>\n",
       "      <td>0.326589</td>\n",
       "      <td>0.376770</td>\n",
       "      <td>-0.101063</td>\n",
       "    </tr>\n",
       "    <tr>\n",
       "      <th>4</th>\n",
       "      <td>-0.647454</td>\n",
       "      <td>-0.096554</td>\n",
       "      <td>-0.348758</td>\n",
       "      <td>0.000577</td>\n",
       "      <td>0.124920</td>\n",
       "      <td>-0.497963</td>\n",
       "      <td>-0.334243</td>\n",
       "      <td>-0.237088</td>\n",
       "      <td>0.127465</td>\n",
       "      <td>0.045822</td>\n",
       "    </tr>\n",
       "  </tbody>\n",
       "</table>\n",
       "</div>"
      ],
      "text/plain": [
       "         ft      acft       tfc     tcasii       apch       acr       turn  \\\n",
       "     tcasii        ft        ra        clb        tfc      crew     flight   \n",
       "   approach      crew   descent     visual    captain      land instrument   \n",
       "        acr    sector     radar       issu       ctlr     separ     flight   \n",
       "     failur    flight     engin      pilot       fuel     aviat       oper   \n",
       "      pilot  helicopt      oper     condit    weather   terrain   aircraft   \n",
       "      pilot    nation transport        acr undetermin    safeti       turn   \n",
       "    takeoff   airplan       ice     runway      stall     pilot     ground   \n",
       "     flight   control      crew       fuel   clearanc   terrain instrument   \n",
       "       fuel     engin     pilot instrument     improp     power       dure   \n",
       "0 -0.664266  0.221904  0.463062   0.289839   0.259371  0.211192  -0.024796   \n",
       "1 -0.522943 -0.011714 -0.180939  -0.270614  -0.325079 -0.312903   0.264665   \n",
       "2 -0.461617 -0.023182  0.053769  -0.007560  -0.030623  0.236462  -0.043043   \n",
       "3 -0.602707 -0.005345 -0.146715   0.076973   0.331947 -0.077547  -0.483977   \n",
       "4 -0.647454 -0.096554 -0.348758   0.000577   0.124920 -0.497963  -0.334243   \n",
       "\n",
       "        clb        ra      ctlr  \n",
       "        atc    visual    failur  \n",
       "    altitud    runway    flight  \n",
       "       crew  standard       hdg  \n",
       "    mainten     feder     stall  \n",
       "      aviat      lack     feder  \n",
       "    airplan     accid  helicopt  \n",
       "       dure   captain    weight  \n",
       "   aircraft     stall    rudder  \n",
       "     ground   descent      loss  \n",
       "0 -0.013954 -0.238438 -0.203811  \n",
       "1  0.580730  0.022309 -0.095104  \n",
       "2  0.820478  0.204504 -0.098554  \n",
       "3  0.326589  0.376770 -0.101063  \n",
       "4 -0.237088  0.127465  0.045822  "
      ]
     },
     "execution_count": 111,
     "metadata": {},
     "output_type": "execute_result"
    }
   ],
   "source": [
    "order_components = vt.argsort()[:, ::-1]\n",
    "components = []\n",
    "for i in range(vt.shape[0]):\n",
    "    label = [terms[ind] for ind in order_components[i, :10]]\n",
    "    components.append(label)\n",
    "dfnorm.columns = components\n",
    "dfnorm.head()"
   ]
  },
  {
   "cell_type": "code",
   "execution_count": 117,
   "metadata": {},
   "outputs": [
    {
     "name": "stdout",
     "output_type": "stream",
     "text": [
      "[['ft', 'acft', 'tfc', 'tcasii', 'apch', 'acr', 'turn', 'clb', 'ra', 'ctlr'], ['tcasii', 'ft', 'ra', 'clb', 'tfc', 'crew', 'flight', 'atc', 'visual', 'failur'], ['approach', 'crew', 'descent', 'visual', 'captain', 'land', 'instrument', 'altitud', 'runway', 'flight'], ['acr', 'sector', 'radar', 'issu', 'ctlr', 'separ', 'flight', 'crew', 'standard', 'hdg'], ['failur', 'flight', 'engin', 'pilot', 'fuel', 'aviat', 'oper', 'mainten', 'feder', 'stall'], ['pilot', 'helicopt', 'oper', 'condit', 'weather', 'terrain', 'aircraft', 'aviat', 'lack', 'feder'], ['pilot', 'nation', 'transport', 'acr', 'undetermin', 'safeti', 'turn', 'airplan', 'accid', 'helicopt'], ['takeoff', 'airplan', 'ice', 'runway', 'stall', 'pilot', 'ground', 'dure', 'captain', 'weight'], ['flight', 'control', 'crew', 'fuel', 'clearanc', 'terrain', 'instrument', 'aircraft', 'stall', 'rudder'], ['fuel', 'engin', 'pilot', 'instrument', 'improp', 'power', 'dure', 'ground', 'descent', 'loss']]\n"
     ]
    }
   ],
   "source": [
    "print(components)"
   ]
  },
  {
   "cell_type": "code",
   "execution_count": 113,
   "metadata": {},
   "outputs": [
    {
     "name": "stderr",
     "output_type": "stream",
     "text": [
      "/Users/aslstem/anaconda/lib/python3.6/site-packages/pandas/core/reshape/merge.py:551: UserWarning: merging between different levels can give an unintended result (1 levels on the left, 10 on the right)\n",
      "  warnings.warn(msg, UserWarning)\n"
     ]
    },
    {
     "data": {
      "text/html": [
       "<div>\n",
       "<style>\n",
       "    .dataframe thead tr:only-child th {\n",
       "        text-align: right;\n",
       "    }\n",
       "\n",
       "    .dataframe thead th {\n",
       "        text-align: left;\n",
       "    }\n",
       "\n",
       "    .dataframe tbody tr th {\n",
       "        vertical-align: top;\n",
       "    }\n",
       "</style>\n",
       "<table border=\"1\" class=\"dataframe\">\n",
       "  <thead>\n",
       "    <tr style=\"text-align: right;\">\n",
       "      <th></th>\n",
       "      <th>dis</th>\n",
       "      <th>alt</th>\n",
       "      <th>(ft, tcasii, approach, acr, failur, pilot, pilot, takeoff, flight, fuel)</th>\n",
       "      <th>(acft, ft, crew, sector, flight, helicopt, nation, airplan, control, engin)</th>\n",
       "      <th>(tfc, ra, descent, radar, engin, oper, transport, ice, crew, pilot)</th>\n",
       "      <th>(tcasii, clb, visual, issu, pilot, condit, acr, runway, fuel, instrument)</th>\n",
       "      <th>(apch, tfc, captain, ctlr, fuel, weather, undetermin, stall, clearanc, improp)</th>\n",
       "      <th>(acr, crew, land, separ, aviat, terrain, safeti, pilot, terrain, power)</th>\n",
       "      <th>(turn, flight, instrument, flight, oper, aircraft, turn, ground, instrument, dure)</th>\n",
       "      <th>(clb, atc, altitud, crew, mainten, aviat, airplan, dure, aircraft, ground)</th>\n",
       "      <th>(ra, visual, runway, standard, feder, lack, accid, captain, stall, descent)</th>\n",
       "      <th>(ctlr, failur, flight, hdg, stall, feder, helicopt, weight, rudder, loss)</th>\n",
       "    </tr>\n",
       "  </thead>\n",
       "  <tbody>\n",
       "    <tr>\n",
       "      <th>0</th>\n",
       "      <td>-0.214551</td>\n",
       "      <td>-0.640337</td>\n",
       "      <td>-0.664266</td>\n",
       "      <td>0.221904</td>\n",
       "      <td>0.463062</td>\n",
       "      <td>0.289839</td>\n",
       "      <td>0.259371</td>\n",
       "      <td>0.211192</td>\n",
       "      <td>-0.024796</td>\n",
       "      <td>-0.013954</td>\n",
       "      <td>-0.238438</td>\n",
       "      <td>-0.203811</td>\n",
       "    </tr>\n",
       "    <tr>\n",
       "      <th>1</th>\n",
       "      <td>0.237947</td>\n",
       "      <td>-0.373952</td>\n",
       "      <td>-0.522943</td>\n",
       "      <td>-0.011714</td>\n",
       "      <td>-0.180939</td>\n",
       "      <td>-0.270614</td>\n",
       "      <td>-0.325079</td>\n",
       "      <td>-0.312903</td>\n",
       "      <td>0.264665</td>\n",
       "      <td>0.580730</td>\n",
       "      <td>0.022309</td>\n",
       "      <td>-0.095104</td>\n",
       "    </tr>\n",
       "    <tr>\n",
       "      <th>2</th>\n",
       "      <td>-0.458203</td>\n",
       "      <td>-0.866764</td>\n",
       "      <td>-0.461617</td>\n",
       "      <td>-0.023182</td>\n",
       "      <td>0.053769</td>\n",
       "      <td>-0.007560</td>\n",
       "      <td>-0.030623</td>\n",
       "      <td>0.236462</td>\n",
       "      <td>-0.043043</td>\n",
       "      <td>0.820478</td>\n",
       "      <td>0.204504</td>\n",
       "      <td>-0.098554</td>\n",
       "    </tr>\n",
       "    <tr>\n",
       "      <th>3</th>\n",
       "      <td>-0.005706</td>\n",
       "      <td>-0.507144</td>\n",
       "      <td>-0.602707</td>\n",
       "      <td>-0.005345</td>\n",
       "      <td>-0.146715</td>\n",
       "      <td>0.076973</td>\n",
       "      <td>0.331947</td>\n",
       "      <td>-0.077547</td>\n",
       "      <td>-0.483977</td>\n",
       "      <td>0.326589</td>\n",
       "      <td>0.376770</td>\n",
       "      <td>-0.101063</td>\n",
       "    </tr>\n",
       "    <tr>\n",
       "      <th>4</th>\n",
       "      <td>-0.458203</td>\n",
       "      <td>-0.733571</td>\n",
       "      <td>-0.647454</td>\n",
       "      <td>-0.096554</td>\n",
       "      <td>-0.348758</td>\n",
       "      <td>0.000577</td>\n",
       "      <td>0.124920</td>\n",
       "      <td>-0.497963</td>\n",
       "      <td>-0.334243</td>\n",
       "      <td>-0.237088</td>\n",
       "      <td>0.127465</td>\n",
       "      <td>0.045822</td>\n",
       "    </tr>\n",
       "  </tbody>\n",
       "</table>\n",
       "</div>"
      ],
      "text/plain": [
       "        dis       alt  \\\n",
       "0 -0.214551 -0.640337   \n",
       "1  0.237947 -0.373952   \n",
       "2 -0.458203 -0.866764   \n",
       "3 -0.005706 -0.507144   \n",
       "4 -0.458203 -0.733571   \n",
       "\n",
       "   (ft, tcasii, approach, acr, failur, pilot, pilot, takeoff, flight, fuel)  \\\n",
       "0                                          -0.664266                          \n",
       "1                                          -0.522943                          \n",
       "2                                          -0.461617                          \n",
       "3                                          -0.602707                          \n",
       "4                                          -0.647454                          \n",
       "\n",
       "   (acft, ft, crew, sector, flight, helicopt, nation, airplan, control, engin)  \\\n",
       "0                                           0.221904                             \n",
       "1                                          -0.011714                             \n",
       "2                                          -0.023182                             \n",
       "3                                          -0.005345                             \n",
       "4                                          -0.096554                             \n",
       "\n",
       "   (tfc, ra, descent, radar, engin, oper, transport, ice, crew, pilot)  \\\n",
       "0                                           0.463062                     \n",
       "1                                          -0.180939                     \n",
       "2                                           0.053769                     \n",
       "3                                          -0.146715                     \n",
       "4                                          -0.348758                     \n",
       "\n",
       "   (tcasii, clb, visual, issu, pilot, condit, acr, runway, fuel, instrument)  \\\n",
       "0                                           0.289839                           \n",
       "1                                          -0.270614                           \n",
       "2                                          -0.007560                           \n",
       "3                                           0.076973                           \n",
       "4                                           0.000577                           \n",
       "\n",
       "   (apch, tfc, captain, ctlr, fuel, weather, undetermin, stall, clearanc, improp)  \\\n",
       "0                                           0.259371                                \n",
       "1                                          -0.325079                                \n",
       "2                                          -0.030623                                \n",
       "3                                           0.331947                                \n",
       "4                                           0.124920                                \n",
       "\n",
       "   (acr, crew, land, separ, aviat, terrain, safeti, pilot, terrain, power)  \\\n",
       "0                                           0.211192                         \n",
       "1                                          -0.312903                         \n",
       "2                                           0.236462                         \n",
       "3                                          -0.077547                         \n",
       "4                                          -0.497963                         \n",
       "\n",
       "   (turn, flight, instrument, flight, oper, aircraft, turn, ground, instrument, dure)  \\\n",
       "0                                          -0.024796                                    \n",
       "1                                           0.264665                                    \n",
       "2                                          -0.043043                                    \n",
       "3                                          -0.483977                                    \n",
       "4                                          -0.334243                                    \n",
       "\n",
       "   (clb, atc, altitud, crew, mainten, aviat, airplan, dure, aircraft, ground)  \\\n",
       "0                                          -0.013954                            \n",
       "1                                           0.580730                            \n",
       "2                                           0.820478                            \n",
       "3                                           0.326589                            \n",
       "4                                          -0.237088                            \n",
       "\n",
       "   (ra, visual, runway, standard, feder, lack, accid, captain, stall, descent)  \\\n",
       "0                                          -0.238438                             \n",
       "1                                           0.022309                             \n",
       "2                                           0.204504                             \n",
       "3                                           0.376770                             \n",
       "4                                           0.127465                             \n",
       "\n",
       "   (ctlr, failur, flight, hdg, stall, feder, helicopt, weight, rudder, loss)  \n",
       "0                                          -0.203811                          \n",
       "1                                          -0.095104                          \n",
       "2                                          -0.098554                          \n",
       "3                                          -0.101063                          \n",
       "4                                           0.045822                          "
      ]
     },
     "execution_count": 113,
     "metadata": {},
     "output_type": "execute_result"
    }
   ],
   "source": [
    "dfloc = pd.DataFrame(scale(data[['Place.3', 'Place.5']]), columns=['dis', 'alt'])\n",
    "df_features = dfloc.join(dfnorm)\n",
    "df_features['dis'] = df_features['dis'].apply(lambda x: x * 1)\n",
    "df_features['alt'] = df_features['alt'].apply(lambda x: x * 1)\n",
    "df_features.to_csv('03-lsa.csv')\n",
    "df_features.head()"
   ]
  },
  {
   "cell_type": "markdown",
   "metadata": {},
   "source": [
    "Full forms of the above abbreviations:\n",
    "1. aircaft, error, standard, system, separation, between, Less Than Standard Separation\n",
    "2. control, boston air route traffic control center, experience, operator, at, separation, standard, feet\n",
    "3. Traffic Alert and Collision Avoidance, to, alert, aircaft, Resolution Advisory, Less Than Standard Separation, assign, descdent\n",
    "4. runways, on, aircraft, approach, experience, Less Than Standard Separation, operator, error\n",
    "5. Resolution Advisory, Traffic Alert and Collision Avoidance, report, crew, aircraft, approach runway, control"
   ]
  },
  {
   "cell_type": "markdown",
   "metadata": {},
   "source": [
    "1. Near mid air collision, , , Pattern\n",
    "2. aircraft, error, standard, Near mid air collision,\n",
    "3. separate, \n",
    "4.\n",
    "5."
   ]
  },
  {
   "cell_type": "markdown",
   "metadata": {},
   "source": [
    "# Analysis"
   ]
  },
  {
   "cell_type": "markdown",
   "metadata": {},
   "source": [
    "1. midair collision sma has pattern / less than standard separation system error oppuacied\n",
    "2. aircarrier error standard midair collision / in separate standard aircraft\n",
    "3. nmac operator "
   ]
  },
  {
   "cell_type": "markdown",
   "metadata": {},
   "source": [
    "# K-means"
   ]
  },
  {
   "cell_type": "code",
   "execution_count": 114,
   "metadata": {},
   "outputs": [
    {
     "name": "stdout",
     "output_type": "stream",
     "text": [
      "Kmeans++ clusters: [1 3 1 3 3 3 3 4 3 1 3 3 4 4 3 1 4 1 4 4 1 4 3 3 3 0 4 1 3 3 3 1 1 3 1 4 1\n",
      " 0 1 1 0 0 0 1 1 1 1 1 0 3 2 2 1 1 1 0 4 1 4 4 4 1 4 4 4 1 4 0 1 1 1 4 0 1\n",
      " 1 0 2 3 3 0 0 3 1 3 3 3 3 3 1 3 4 4 3 3 3 0 3 1 4 3 4 4 4 3 1 3 3 3 4 3 3\n",
      " 3 3 3 4 4 4 4 4 2 4 3 1 1 3 4 4 3 3 4 4 1 0 3 4 1 1 4 4 3 3 4 4 3 4 4 1 1\n",
      " 3 3 1 3 3 3 3 3 1 3 1 3 3 3 4 4 3 1 3 4 4 3 4 1 4 1 1 4 4 1 3 3 3 4 0 1 4\n",
      " 3 3 1 1 3 1 1 4 4 1 1 4 0 1 4 1 1 1 4 1 3 3 1 4 1 4 1 4 1 3 1 1 1 3 3 4 1\n",
      " 3 3 1 1 4 1 3 1 0 1 3 3 3 3 1 4 1 3 3 3 3 4 1 3 4 1 0 4 3 4 3 1 4 3 3 3 4\n",
      " 3 1 3 3 3 3 4 3 3 3 3 3 1 1 3 3 4 0 3 4 4 3 3 3 3 3 3 3 1 3 3 3 1 4 4 3 3\n",
      " 3 4 1 3 1 3 1 1 3 4 4 3 4 3 3 3 1 3 1 3 3 3 3 1 3 1 4 3 3 3 3 4 0 1 4 1 4\n",
      " 4 4 4 0 1 4 1 3 3 3 1 1 4 1 1 1 3 1 1 1 3 4 4 4 4 1 4 1 3 3 1 4 1 4 1 3 4\n",
      " 4 1 1 1 3 4 4 4 3 3 4 4 1 4 0 1 4 1 4 3 3 3 1 3 1 3 4 4 3 3 1 3 1 4 3 3 3\n",
      " 4 3 1 3 4 3 3 0 4 4 3 3 3 4 3 4 0 3 3 3 1 1 3 0 1 1 3 1 1 4 3 4 3 4 3 0 4\n",
      " 3 3 3 1 4 3 3 3 3 4 4 4 1 4 1 1 4 3 4 3 3 4 4 4 0 3 0 3 3 3 3 4 3 1 3 0 3\n",
      " 3 3 1 1 1 0 0 4 0 4 0 0 1 4 1 3 4 4 4 4 4 4 4 4 3 1 1 4 0 1 1 1 4 1 1 1 0\n",
      " 4 1 1 0 1 4 4 4 3 1 1 1 3 4 1 1 3 0 4 0 1 4 4 1 0 4 0 4 3 3 0 4 1 3 3 3 4\n",
      " 0 1 3 1 1 3 3 3 1 3 1 3 3 3 3 1]\n"
     ]
    }
   ],
   "source": [
    "from sklearn.cluster import KMeans\n",
    "\n",
    "k = 5\n",
    "kmeans = KMeans(n_clusters=k, init='k-means++', n_init=1)\n",
    "kmeans.fit_predict(df_features)\n",
    "Kcentroids = kmeans.cluster_centers_\n",
    "Klabels = kmeans.labels_\n",
    "print('Kmeans++ clusters:', Klabels)"
   ]
  },
  {
   "cell_type": "code",
   "execution_count": 118,
   "metadata": {},
   "outputs": [
    {
     "ename": "TypeError",
     "evalue": "sequence item 0: expected str instance, list found",
     "output_type": "error",
     "traceback": [
      "\u001b[0;31m---------------------------------------------------------------------------\u001b[0m",
      "\u001b[0;31mTypeError\u001b[0m                                 Traceback (most recent call last)",
      "\u001b[0;32m<ipython-input-118-bfa3b2a25771>\u001b[0m in \u001b[0;36m<module>\u001b[0;34m()\u001b[0m\n\u001b[1;32m      9\u001b[0m     \u001b[0mKcluster_names\u001b[0m\u001b[0;34m.\u001b[0m\u001b[0mappend\u001b[0m\u001b[0;34m(\u001b[0m\u001b[0mlabel\u001b[0m\u001b[0;34m)\u001b[0m\u001b[0;34m\u001b[0m\u001b[0m\n\u001b[1;32m     10\u001b[0m \u001b[0;34m\u001b[0m\u001b[0m\n\u001b[0;32m---> 11\u001b[0;31m \u001b[0mKcluster_names\u001b[0m \u001b[0;34m=\u001b[0m \u001b[0;34m[\u001b[0m\u001b[0;34m'/'\u001b[0m\u001b[0;34m.\u001b[0m\u001b[0mjoin\u001b[0m\u001b[0;34m(\u001b[0m\u001b[0mlabel\u001b[0m\u001b[0;34m)\u001b[0m\u001b[0;34m.\u001b[0m\u001b[0mtitle\u001b[0m\u001b[0;34m(\u001b[0m\u001b[0;34m)\u001b[0m \u001b[0;32mfor\u001b[0m \u001b[0mlabel\u001b[0m \u001b[0;32min\u001b[0m \u001b[0mKcluster_names\u001b[0m\u001b[0;34m]\u001b[0m\u001b[0;34m\u001b[0m\u001b[0m\n\u001b[0m\u001b[1;32m     12\u001b[0m \u001b[0mKcluster_names\u001b[0m\u001b[0;34m\u001b[0m\u001b[0m\n",
      "\u001b[0;32m<ipython-input-118-bfa3b2a25771>\u001b[0m in \u001b[0;36m<listcomp>\u001b[0;34m(.0)\u001b[0m\n\u001b[1;32m      9\u001b[0m     \u001b[0mKcluster_names\u001b[0m\u001b[0;34m.\u001b[0m\u001b[0mappend\u001b[0m\u001b[0;34m(\u001b[0m\u001b[0mlabel\u001b[0m\u001b[0;34m)\u001b[0m\u001b[0;34m\u001b[0m\u001b[0m\n\u001b[1;32m     10\u001b[0m \u001b[0;34m\u001b[0m\u001b[0m\n\u001b[0;32m---> 11\u001b[0;31m \u001b[0mKcluster_names\u001b[0m \u001b[0;34m=\u001b[0m \u001b[0;34m[\u001b[0m\u001b[0;34m'/'\u001b[0m\u001b[0;34m.\u001b[0m\u001b[0mjoin\u001b[0m\u001b[0;34m(\u001b[0m\u001b[0mlabel\u001b[0m\u001b[0;34m)\u001b[0m\u001b[0;34m.\u001b[0m\u001b[0mtitle\u001b[0m\u001b[0;34m(\u001b[0m\u001b[0;34m)\u001b[0m \u001b[0;32mfor\u001b[0m \u001b[0mlabel\u001b[0m \u001b[0;32min\u001b[0m \u001b[0mKcluster_names\u001b[0m\u001b[0;34m]\u001b[0m\u001b[0;34m\u001b[0m\u001b[0m\n\u001b[0m\u001b[1;32m     12\u001b[0m \u001b[0mKcluster_names\u001b[0m\u001b[0;34m\u001b[0m\u001b[0m\n",
      "\u001b[0;31mTypeError\u001b[0m: sequence item 0: expected str instance, list found"
     ]
    }
   ],
   "source": [
    "# Name k clusters\n",
    "Kasc_order_centroids = kmeans.cluster_centers_.argsort()#[:, ::-1]\n",
    "Korder_centroids = Kasc_order_centroids[:,::-1]\n",
    "Korder_centroids = np.array([[x - 2 for x in row if (x - 2) >= 0] for row in Korder_centroids]) # remove locations\n",
    "\n",
    "Kcluster_names = []\n",
    "for i in range(k):\n",
    "    label = [components[ind] for ind in Korder_centroids[i, :2]]\n",
    "    Kcluster_names.append(label)\n",
    "\n",
    "Kcluster_names = ['/'.join(label).title() for label in Kcluster_names]\n",
    "Kcluster_names"
   ]
  },
  {
   "cell_type": "code",
   "execution_count": 119,
   "metadata": {
    "scrolled": false
   },
   "outputs": [
    {
     "data": {
      "image/png": "[encoded data removed]",
      "text/plain": [
       "<matplotlib.figure.Figure at 0x126b24048>"
      ]
     },
     "metadata": {},
     "output_type": "display_data"
    }
   ],
   "source": [
    "# Plot k-means++\n",
    "plt.figure(figsize=(15, 15))\n",
    "colors = ['#85144b', '#0074D9', '#7FDBFF', '#39CCCC', '#3D9970', '#2ECC40', '#01FF70', '#FFDC00', '#FF851B', '#FF4136', '#AAAAAA', '#222222']\n",
    "\n",
    "for cluster_index in range(k):\n",
    "    alt = [data.iloc[i]['Place.5'] for i in range(len(Klabels)) if Klabels[i] == cluster_index]\n",
    "    dis = [data.iloc[i]['Place.3'] for i in range(len(Klabels)) if Klabels[i] == cluster_index]\n",
    "    plt.scatter(x=dis, y=alt, c=colors[cluster_index], label = Kcluster_names[cluster_index], s=20)\n",
    "\n",
    "plt.legend()\n",
    "plt.xlabel('Distance')\n",
    "plt.ylabel('Altitude')\n",
    "plt.title('K-means++')\n",
    "plt.show()"
   ]
  }
 ],
 "metadata": {
  "kernelspec": {
   "display_name": "Python 3",
   "language": "python",
   "name": "python3"
  },
  "language_info": {
   "codemirror_mode": {
    "name": "ipython",
    "version": 3
   },
   "file_extension": ".py",
   "mimetype": "text/x-python",
   "name": "python",
   "nbconvert_exporter": "python",
   "pygments_lexer": "ipython3",
   "version": "3.6.1"
  }
 },
 "nbformat": 4,
 "nbformat_minor": 2
}
