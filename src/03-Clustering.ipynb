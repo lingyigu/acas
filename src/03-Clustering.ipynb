{
 "cells": [
  {
   "cell_type": "markdown",
   "metadata": {},
   "source": [
    "# Clustering"
   ]
  },
  {
   "cell_type": "markdown",
   "metadata": {},
   "source": [
    "### Dimensionality Reduction & LSA"
   ]
  },
  {
   "cell_type": "code",
   "execution_count": 39,
   "metadata": {},
   "outputs": [],
   "source": [
    "import numpy as np\n",
    "import scipy as sp\n",
    "import pandas as pd\n",
    "import json as js\n",
    "import matplotlib.pyplot as plt\n",
    "%matplotlib inline"
   ]
  },
  {
   "cell_type": "code",
   "execution_count": 41,
   "metadata": {},
   "outputs": [
    {
     "data": {
      "text/html": [
       "<div>\n",
       "<style>\n",
       "    .dataframe thead tr:only-child th {\n",
       "        text-align: right;\n",
       "    }\n",
       "\n",
       "    .dataframe thead th {\n",
       "        text-align: left;\n",
       "    }\n",
       "\n",
       "    .dataframe tbody tr th {\n",
       "        vertical-align: top;\n",
       "    }\n",
       "</style>\n",
       "<table border=\"1\" class=\"dataframe\">\n",
       "  <thead>\n",
       "    <tr style=\"text-align: right;\">\n",
       "      <th></th>\n",
       "      <th>Summary</th>\n",
       "    </tr>\n",
       "  </thead>\n",
       "  <tbody>\n",
       "    <tr>\n",
       "      <th>0</th>\n",
       "      <td>synopsi narr</td>\n",
       "    </tr>\n",
       "    <tr>\n",
       "      <th>1</th>\n",
       "      <td>helicopt encount sma acft IN see avoid situat ...</td>\n",
       "    </tr>\n",
       "    <tr>\n",
       "      <th>2</th>\n",
       "      <td>close prox ga-sma ga-smt ON v106 . level AT 45...</td>\n",
       "    </tr>\n",
       "    <tr>\n",
       "      <th>3</th>\n",
       "      <td>close prox 2 ga-sma acft IN traffic pattern AT...</td>\n",
       "    </tr>\n",
       "    <tr>\n",
       "      <th>4</th>\n",
       "      <td>close prox GA sma parachutist IN restrict area...</td>\n",
       "    </tr>\n",
       "  </tbody>\n",
       "</table>\n",
       "</div>"
      ],
      "text/plain": [
       "                                             Summary\n",
       "0                                      synopsi narr \n",
       "1  helicopt encount sma acft IN see avoid situat ...\n",
       "2  close prox ga-sma ga-smt ON v106 . level AT 45...\n",
       "3  close prox 2 ga-sma acft IN traffic pattern AT...\n",
       "4  close prox GA sma parachutist IN restrict area..."
      ]
     },
     "execution_count": 41,
     "metadata": {},
     "output_type": "execute_result"
    }
   ],
   "source": [
    "# Read report\n",
    "data = pd.read_csv(\"02-ASRS_DBOnline.csv\",index_col=0).reset_index()\n",
    "data = data.dropna(subset=['Place.3','Place.5','Report 1.2']).reset_index()[1:]\n",
    "new_report = pd.read_csv(\"02-report.csv\", index_col=0)\n",
    "new_report.head()"
   ]
  },
  {
   "cell_type": "code",
   "execution_count": 42,
   "metadata": {},
   "outputs": [],
   "source": [
    "# Word reference\n",
    "word_reference = pd.read_csv(\"02-ASRS-word-reference.csv\", index_col=0)\n",
    "def lookup(word):\n",
    "    for i in range(len(word_reference)):\n",
    "        if word_reference['after'][i] == word:\n",
    "            print(word_reference['before'][i])\n",
    "            break"
   ]
  },
  {
   "cell_type": "code",
   "execution_count": 43,
   "metadata": {},
   "outputs": [
    {
     "name": "stdout",
     "output_type": "stream",
     "text": [
      "ARPTS\n"
     ]
    }
   ],
   "source": [
    "lookup('arpt')"
   ]
  },
  {
   "cell_type": "code",
   "execution_count": 44,
   "metadata": {},
   "outputs": [
    {
     "name": "stdout",
     "output_type": "stream",
     "text": [
      "(728, 1779)\n"
     ]
    }
   ],
   "source": [
    "# Tfid Vectorizer\n",
    "from sklearn.feature_extraction.text import TfidfVectorizer\n",
    "\n",
    "vectorizer = TfidfVectorizer(stop_words='english', min_df=4, max_df=0.8)\n",
    "dtm = vectorizer.fit_transform(new_report['Summary'])\n",
    "print(dtm.shape)\n",
    "dtm_dense = dtm.todense()\n",
    "centered_dtm = dtm_dense - np.mean(dtm_dense, axis=0)\n",
    "terms = vectorizer.get_feature_names()"
   ]
  },
  {
   "cell_type": "code",
   "execution_count": 45,
   "metadata": {},
   "outputs": [],
   "source": [
    "# Decide n_components\n",
    "from sklearn.decomposition import TruncatedSVD\n",
    "from sklearn.preprocessing import Normalizer\n",
    "\n",
    "svd = TruncatedSVD(n_components=100, algorithm=\"randomized\")\n",
    "svd_fit = svd.fit_transform(centered_dtm)\n",
    "svd_norm = Normalizer().fit_transform(svd_fit)\n",
    "\n",
    "vt = svd.components_\n",
    "dfnorm = pd.DataFrame(svd_norm)"
   ]
  },
  {
   "cell_type": "code",
   "execution_count": 46,
   "metadata": {},
   "outputs": [
    {
     "data": {
      "text/plain": [
       "<matplotlib.text.Text at 0x10a768668>"
      ]
     },
     "execution_count": 46,
     "metadata": {},
     "output_type": "execute_result"
    },
    {
     "data": {
      "image/png": "[encoded data removed]",
      "text/plain": [
       "<matplotlib.figure.Figure at 0x10a782828>"
      ]
     },
     "metadata": {},
     "output_type": "display_data"
    }
   ],
   "source": [
    "s = svd.singular_values_\n",
    "plt.xlim([0,100])\n",
    "plt.plot(range(1,len(s)+1),s)\n",
    "plt.title('Singular values')\n",
    "plt.ylabel('Singular Value')\n",
    "plt.xlabel('Components')"
   ]
  },
  {
   "cell_type": "markdown",
   "metadata": {},
   "source": [
    "### decide n_components"
   ]
  },
  {
   "cell_type": "code",
   "execution_count": 47,
   "metadata": {},
   "outputs": [],
   "source": [
    "from sklearn.feature_extraction.text import TfidfVectorizer\n",
    "from sklearn.decomposition import TruncatedSVD\n",
    "from sklearn.preprocessing import Normalizer\n",
    "from sklearn.preprocessing import scale"
   ]
  },
  {
   "cell_type": "code",
   "execution_count": 48,
   "metadata": {},
   "outputs": [
    {
     "name": "stdout",
     "output_type": "stream",
     "text": [
      "(728, 1779)\n"
     ]
    }
   ],
   "source": [
    "# Tfid Vectorizer\n",
    "vectorizer = TfidfVectorizer(stop_words='english', min_df=4, max_df=0.8)\n",
    "dtm = vectorizer.fit_transform(new_report['Summary'])\n",
    "print(dtm.shape)\n",
    "dtm_dense = dtm.todense()\n",
    "centered_dtm = dtm_dense - np.mean(dtm_dense, axis=0)\n",
    "terms = vectorizer.get_feature_names()"
   ]
  },
  {
   "cell_type": "code",
   "execution_count": 49,
   "metadata": {},
   "outputs": [],
   "source": [
    "svd = TruncatedSVD(n_components=10, algorithm=\"randomized\")\n",
    "svd_fit = svd.fit_transform(centered_dtm)\n",
    "svd_norm = Normalizer().fit_transform(svd_fit)\n",
    "\n",
    "vt = svd.components_\n",
    "dfnorm = pd.DataFrame(svd_norm)"
   ]
  },
  {
   "cell_type": "code",
   "execution_count": 50,
   "metadata": {},
   "outputs": [
    {
     "data": {
      "text/html": [
       "<div>\n",
       "<style>\n",
       "    .dataframe thead tr:only-child th {\n",
       "        text-align: right;\n",
       "    }\n",
       "\n",
       "    .dataframe thead th {\n",
       "        text-align: left;\n",
       "    }\n",
       "\n",
       "    .dataframe tbody tr th {\n",
       "        vertical-align: top;\n",
       "    }\n",
       "</style>\n",
       "<table border=\"1\" class=\"dataframe\">\n",
       "  <thead>\n",
       "    <tr>\n",
       "      <th></th>\n",
       "      <th>accid</th>\n",
       "      <th>failur</th>\n",
       "      <th>flight</th>\n",
       "      <th>board</th>\n",
       "      <th>determin</th>\n",
       "      <th>probabl</th>\n",
       "      <th>caus</th>\n",
       "      <th>safeti</th>\n",
       "      <th>nation</th>\n",
       "      <th>transport</th>\n",
       "    </tr>\n",
       "    <tr>\n",
       "      <th></th>\n",
       "      <th>tcasii</th>\n",
       "      <th>ft</th>\n",
       "      <th>ra</th>\n",
       "      <th>clb</th>\n",
       "      <th>atc</th>\n",
       "      <th>tfc</th>\n",
       "      <th>visual</th>\n",
       "      <th>accid</th>\n",
       "      <th>dscnt</th>\n",
       "      <th>ta</th>\n",
       "    </tr>\n",
       "    <tr>\n",
       "      <th></th>\n",
       "      <th>acr</th>\n",
       "      <th>sector</th>\n",
       "      <th>issu</th>\n",
       "      <th>radar</th>\n",
       "      <th>ctlr</th>\n",
       "      <th>separ</th>\n",
       "      <th>error</th>\n",
       "      <th>hold</th>\n",
       "      <th>sep</th>\n",
       "      <th>hdg</th>\n",
       "    </tr>\n",
       "    <tr>\n",
       "      <th></th>\n",
       "      <th>acr</th>\n",
       "      <th>rwi</th>\n",
       "      <th>twr</th>\n",
       "      <th>turn</th>\n",
       "      <th>tcasii</th>\n",
       "      <th>downwind</th>\n",
       "      <th>apch</th>\n",
       "      <th>final</th>\n",
       "      <th>deg</th>\n",
       "      <th>ra</th>\n",
       "    </tr>\n",
       "    <tr>\n",
       "      <th></th>\n",
       "      <th>aircraft</th>\n",
       "      <th>sma</th>\n",
       "      <th>traffic</th>\n",
       "      <th>smt</th>\n",
       "      <th>tower</th>\n",
       "      <th>runway</th>\n",
       "      <th>approach</th>\n",
       "      <th>clock</th>\n",
       "      <th>hdg</th>\n",
       "      <th>atc</th>\n",
       "    </tr>\n",
       "    <tr>\n",
       "      <th></th>\n",
       "      <th>aircraft</th>\n",
       "      <th>pattern</th>\n",
       "      <th>approach</th>\n",
       "      <th>downwind</th>\n",
       "      <th>runway</th>\n",
       "      <th>tower</th>\n",
       "      <th>traffic</th>\n",
       "      <th>visual</th>\n",
       "      <th>base</th>\n",
       "      <th>twr</th>\n",
       "    </tr>\n",
       "    <tr>\n",
       "      <th></th>\n",
       "      <th>sma</th>\n",
       "      <th>ra</th>\n",
       "      <th>tcasii</th>\n",
       "      <th>rptr</th>\n",
       "      <th>pattern</th>\n",
       "      <th>acr</th>\n",
       "      <th>final</th>\n",
       "      <th>alt</th>\n",
       "      <th>radar</th>\n",
       "      <th>sight</th>\n",
       "    </tr>\n",
       "    <tr>\n",
       "      <th></th>\n",
       "      <th>apch</th>\n",
       "      <th>approach</th>\n",
       "      <th>aircraft</th>\n",
       "      <th>il</th>\n",
       "      <th>ctl</th>\n",
       "      <th>pvd</th>\n",
       "      <th>runway</th>\n",
       "      <th>vector</th>\n",
       "      <th>ra</th>\n",
       "      <th>tower</th>\n",
       "    </tr>\n",
       "    <tr>\n",
       "      <th></th>\n",
       "      <th>acft</th>\n",
       "      <th>turn</th>\n",
       "      <th>tcasii</th>\n",
       "      <th>deg</th>\n",
       "      <th>hdg</th>\n",
       "      <th>ra</th>\n",
       "      <th>approach</th>\n",
       "      <th>crew</th>\n",
       "      <th>smt</th>\n",
       "      <th>lgt</th>\n",
       "    </tr>\n",
       "    <tr>\n",
       "      <th></th>\n",
       "      <th>tfc</th>\n",
       "      <th>apch</th>\n",
       "      <th>sector</th>\n",
       "      <th>visual</th>\n",
       "      <th>smt</th>\n",
       "      <th>ctlr</th>\n",
       "      <th>bdl</th>\n",
       "      <th>zbw</th>\n",
       "      <th>clb</th>\n",
       "      <th>jet</th>\n",
       "    </tr>\n",
       "  </thead>\n",
       "  <tbody>\n",
       "    <tr>\n",
       "      <th>0</th>\n",
       "      <td>0.698715</td>\n",
       "      <td>-0.270926</td>\n",
       "      <td>0.192131</td>\n",
       "      <td>-0.316698</td>\n",
       "      <td>0.215326</td>\n",
       "      <td>0.180892</td>\n",
       "      <td>0.232811</td>\n",
       "      <td>0.087814</td>\n",
       "      <td>-0.388763</td>\n",
       "      <td>0.095124</td>\n",
       "    </tr>\n",
       "    <tr>\n",
       "      <th>1</th>\n",
       "      <td>-0.073246</td>\n",
       "      <td>-0.433928</td>\n",
       "      <td>-0.086574</td>\n",
       "      <td>-0.136080</td>\n",
       "      <td>0.379462</td>\n",
       "      <td>-0.396315</td>\n",
       "      <td>0.551869</td>\n",
       "      <td>-0.143439</td>\n",
       "      <td>0.022909</td>\n",
       "      <td>-0.391933</td>\n",
       "    </tr>\n",
       "    <tr>\n",
       "      <th>2</th>\n",
       "      <td>-0.188402</td>\n",
       "      <td>-0.428503</td>\n",
       "      <td>0.078485</td>\n",
       "      <td>-0.042453</td>\n",
       "      <td>0.548907</td>\n",
       "      <td>-0.613124</td>\n",
       "      <td>-0.103591</td>\n",
       "      <td>-0.034950</td>\n",
       "      <td>0.285445</td>\n",
       "      <td>0.047706</td>\n",
       "    </tr>\n",
       "    <tr>\n",
       "      <th>3</th>\n",
       "      <td>-0.154855</td>\n",
       "      <td>-0.688710</td>\n",
       "      <td>-0.308362</td>\n",
       "      <td>0.033762</td>\n",
       "      <td>-0.088708</td>\n",
       "      <td>0.011724</td>\n",
       "      <td>0.523388</td>\n",
       "      <td>-0.088111</td>\n",
       "      <td>0.237683</td>\n",
       "      <td>-0.243463</td>\n",
       "    </tr>\n",
       "    <tr>\n",
       "      <th>4</th>\n",
       "      <td>0.207274</td>\n",
       "      <td>-0.495869</td>\n",
       "      <td>-0.066562</td>\n",
       "      <td>-0.349022</td>\n",
       "      <td>0.461640</td>\n",
       "      <td>-0.027312</td>\n",
       "      <td>0.350012</td>\n",
       "      <td>-0.118426</td>\n",
       "      <td>-0.483673</td>\n",
       "      <td>-0.023964</td>\n",
       "    </tr>\n",
       "  </tbody>\n",
       "</table>\n",
       "</div>"
      ],
      "text/plain": [
       "      accid    failur    flight     board  determin   probabl      caus  \\\n",
       "     tcasii        ft        ra       clb       atc       tfc    visual   \n",
       "        acr    sector      issu     radar      ctlr     separ     error   \n",
       "        acr       rwi       twr      turn    tcasii  downwind      apch   \n",
       "   aircraft       sma   traffic       smt     tower    runway  approach   \n",
       "   aircraft   pattern  approach  downwind    runway     tower   traffic   \n",
       "        sma        ra    tcasii      rptr   pattern       acr     final   \n",
       "       apch  approach  aircraft        il       ctl       pvd    runway   \n",
       "       acft      turn    tcasii       deg       hdg        ra  approach   \n",
       "        tfc      apch    sector    visual       smt      ctlr       bdl   \n",
       "0  0.698715 -0.270926  0.192131 -0.316698  0.215326  0.180892  0.232811   \n",
       "1 -0.073246 -0.433928 -0.086574 -0.136080  0.379462 -0.396315  0.551869   \n",
       "2 -0.188402 -0.428503  0.078485 -0.042453  0.548907 -0.613124 -0.103591   \n",
       "3 -0.154855 -0.688710 -0.308362  0.033762 -0.088708  0.011724  0.523388   \n",
       "4  0.207274 -0.495869 -0.066562 -0.349022  0.461640 -0.027312  0.350012   \n",
       "\n",
       "     safeti    nation transport  \n",
       "      accid     dscnt        ta  \n",
       "       hold       sep       hdg  \n",
       "      final       deg        ra  \n",
       "      clock       hdg       atc  \n",
       "     visual      base       twr  \n",
       "        alt     radar     sight  \n",
       "     vector        ra     tower  \n",
       "       crew       smt       lgt  \n",
       "        zbw       clb       jet  \n",
       "0  0.087814 -0.388763  0.095124  \n",
       "1 -0.143439  0.022909 -0.391933  \n",
       "2 -0.034950  0.285445  0.047706  \n",
       "3 -0.088111  0.237683 -0.243463  \n",
       "4 -0.118426 -0.483673 -0.023964  "
      ]
     },
     "execution_count": 50,
     "metadata": {},
     "output_type": "execute_result"
    }
   ],
   "source": [
    "order_components = vt.argsort()[:, ::-1]\n",
    "components = []\n",
    "for i in range(vt.shape[0]):\n",
    "    label = [terms[ind] for ind in order_components[i, :10]]\n",
    "    components.append(label)\n",
    "dfnorm.columns = components\n",
    "dfnorm.head()"
   ]
  },
  {
   "cell_type": "code",
   "execution_count": 51,
   "metadata": {},
   "outputs": [
    {
     "name": "stdout",
     "output_type": "stream",
     "text": [
      "[['accid', 'failur', 'flight', 'board', 'determin', 'probabl', 'caus', 'safeti', 'nation', 'transport'], ['tcasii', 'ft', 'ra', 'clb', 'atc', 'tfc', 'visual', 'accid', 'dscnt', 'ta'], ['acr', 'sector', 'issu', 'radar', 'ctlr', 'separ', 'error', 'hold', 'sep', 'hdg'], ['acr', 'rwi', 'twr', 'turn', 'tcasii', 'downwind', 'apch', 'final', 'deg', 'ra'], ['aircraft', 'sma', 'traffic', 'smt', 'tower', 'runway', 'approach', 'clock', 'hdg', 'atc'], ['aircraft', 'pattern', 'approach', 'downwind', 'runway', 'tower', 'traffic', 'visual', 'base', 'twr'], ['sma', 'ra', 'tcasii', 'rptr', 'pattern', 'acr', 'final', 'alt', 'radar', 'sight'], ['apch', 'approach', 'aircraft', 'il', 'ctl', 'pvd', 'runway', 'vector', 'ra', 'tower'], ['acft', 'turn', 'tcasii', 'deg', 'hdg', 'ra', 'approach', 'crew', 'smt', 'lgt'], ['tfc', 'apch', 'sector', 'visual', 'smt', 'ctlr', 'bdl', 'zbw', 'clb', 'jet']]\n"
     ]
    }
   ],
   "source": [
    "print(components)"
   ]
  },
  {
   "cell_type": "code",
   "execution_count": 52,
   "metadata": {},
   "outputs": [
    {
     "name": "stderr",
     "output_type": "stream",
     "text": [
      "/Library/Frameworks/Python.framework/Versions/3.5/lib/python3.5/site-packages/pandas/core/reshape/merge.py:551: UserWarning: merging between different levels can give an unintended result (1 levels on the left, 10 on the right)\n",
      "  warnings.warn(msg, UserWarning)\n"
     ]
    },
    {
     "data": {
      "text/html": [
       "<div>\n",
       "<style>\n",
       "    .dataframe thead tr:only-child th {\n",
       "        text-align: right;\n",
       "    }\n",
       "\n",
       "    .dataframe thead th {\n",
       "        text-align: left;\n",
       "    }\n",
       "\n",
       "    .dataframe tbody tr th {\n",
       "        vertical-align: top;\n",
       "    }\n",
       "</style>\n",
       "<table border=\"1\" class=\"dataframe\">\n",
       "  <thead>\n",
       "    <tr style=\"text-align: right;\">\n",
       "      <th></th>\n",
       "      <th>dis</th>\n",
       "      <th>alt</th>\n",
       "      <th>(accid, tcasii, acr, acr, aircraft, aircraft, sma, apch, acft, tfc)</th>\n",
       "      <th>(failur, ft, sector, rwi, sma, pattern, ra, approach, turn, apch)</th>\n",
       "      <th>(flight, ra, issu, twr, traffic, approach, tcasii, aircraft, tcasii, sector)</th>\n",
       "      <th>(board, clb, radar, turn, smt, downwind, rptr, il, deg, visual)</th>\n",
       "      <th>(determin, atc, ctlr, tcasii, tower, runway, pattern, ctl, hdg, smt)</th>\n",
       "      <th>(probabl, tfc, separ, downwind, runway, tower, acr, pvd, ra, ctlr)</th>\n",
       "      <th>(caus, visual, error, apch, approach, traffic, final, runway, approach, bdl)</th>\n",
       "      <th>(safeti, accid, hold, final, clock, visual, alt, vector, crew, zbw)</th>\n",
       "      <th>(nation, dscnt, sep, deg, hdg, base, radar, ra, smt, clb)</th>\n",
       "      <th>(transport, ta, hdg, ra, atc, twr, sight, tower, lgt, jet)</th>\n",
       "    </tr>\n",
       "  </thead>\n",
       "  <tbody>\n",
       "    <tr>\n",
       "      <th>0</th>\n",
       "      <td>-0.214551</td>\n",
       "      <td>-0.640337</td>\n",
       "      <td>0.698715</td>\n",
       "      <td>-0.270926</td>\n",
       "      <td>0.192131</td>\n",
       "      <td>-0.316698</td>\n",
       "      <td>0.215326</td>\n",
       "      <td>0.180892</td>\n",
       "      <td>0.232811</td>\n",
       "      <td>0.087814</td>\n",
       "      <td>-0.388763</td>\n",
       "      <td>0.095124</td>\n",
       "    </tr>\n",
       "    <tr>\n",
       "      <th>1</th>\n",
       "      <td>0.237947</td>\n",
       "      <td>-0.373952</td>\n",
       "      <td>-0.073246</td>\n",
       "      <td>-0.433928</td>\n",
       "      <td>-0.086574</td>\n",
       "      <td>-0.136080</td>\n",
       "      <td>0.379462</td>\n",
       "      <td>-0.396315</td>\n",
       "      <td>0.551869</td>\n",
       "      <td>-0.143439</td>\n",
       "      <td>0.022909</td>\n",
       "      <td>-0.391933</td>\n",
       "    </tr>\n",
       "    <tr>\n",
       "      <th>2</th>\n",
       "      <td>-0.458203</td>\n",
       "      <td>-0.866764</td>\n",
       "      <td>-0.188402</td>\n",
       "      <td>-0.428503</td>\n",
       "      <td>0.078485</td>\n",
       "      <td>-0.042453</td>\n",
       "      <td>0.548907</td>\n",
       "      <td>-0.613124</td>\n",
       "      <td>-0.103591</td>\n",
       "      <td>-0.034950</td>\n",
       "      <td>0.285445</td>\n",
       "      <td>0.047706</td>\n",
       "    </tr>\n",
       "    <tr>\n",
       "      <th>3</th>\n",
       "      <td>-0.005706</td>\n",
       "      <td>-0.507144</td>\n",
       "      <td>-0.154855</td>\n",
       "      <td>-0.688710</td>\n",
       "      <td>-0.308362</td>\n",
       "      <td>0.033762</td>\n",
       "      <td>-0.088708</td>\n",
       "      <td>0.011724</td>\n",
       "      <td>0.523388</td>\n",
       "      <td>-0.088111</td>\n",
       "      <td>0.237683</td>\n",
       "      <td>-0.243463</td>\n",
       "    </tr>\n",
       "    <tr>\n",
       "      <th>4</th>\n",
       "      <td>-0.458203</td>\n",
       "      <td>-0.733571</td>\n",
       "      <td>0.207274</td>\n",
       "      <td>-0.495869</td>\n",
       "      <td>-0.066562</td>\n",
       "      <td>-0.349022</td>\n",
       "      <td>0.461640</td>\n",
       "      <td>-0.027312</td>\n",
       "      <td>0.350012</td>\n",
       "      <td>-0.118426</td>\n",
       "      <td>-0.483673</td>\n",
       "      <td>-0.023964</td>\n",
       "    </tr>\n",
       "  </tbody>\n",
       "</table>\n",
       "</div>"
      ],
      "text/plain": [
       "        dis       alt  \\\n",
       "0 -0.214551 -0.640337   \n",
       "1  0.237947 -0.373952   \n",
       "2 -0.458203 -0.866764   \n",
       "3 -0.005706 -0.507144   \n",
       "4 -0.458203 -0.733571   \n",
       "\n",
       "   (accid, tcasii, acr, acr, aircraft, aircraft, sma, apch, acft, tfc)  \\\n",
       "0                                           0.698715                     \n",
       "1                                          -0.073246                     \n",
       "2                                          -0.188402                     \n",
       "3                                          -0.154855                     \n",
       "4                                           0.207274                     \n",
       "\n",
       "   (failur, ft, sector, rwi, sma, pattern, ra, approach, turn, apch)  \\\n",
       "0                                          -0.270926                   \n",
       "1                                          -0.433928                   \n",
       "2                                          -0.428503                   \n",
       "3                                          -0.688710                   \n",
       "4                                          -0.495869                   \n",
       "\n",
       "   (flight, ra, issu, twr, traffic, approach, tcasii, aircraft, tcasii, sector)  \\\n",
       "0                                           0.192131                              \n",
       "1                                          -0.086574                              \n",
       "2                                           0.078485                              \n",
       "3                                          -0.308362                              \n",
       "4                                          -0.066562                              \n",
       "\n",
       "   (board, clb, radar, turn, smt, downwind, rptr, il, deg, visual)  \\\n",
       "0                                          -0.316698                 \n",
       "1                                          -0.136080                 \n",
       "2                                          -0.042453                 \n",
       "3                                           0.033762                 \n",
       "4                                          -0.349022                 \n",
       "\n",
       "   (determin, atc, ctlr, tcasii, tower, runway, pattern, ctl, hdg, smt)  \\\n",
       "0                                           0.215326                      \n",
       "1                                           0.379462                      \n",
       "2                                           0.548907                      \n",
       "3                                          -0.088708                      \n",
       "4                                           0.461640                      \n",
       "\n",
       "   (probabl, tfc, separ, downwind, runway, tower, acr, pvd, ra, ctlr)  \\\n",
       "0                                           0.180892                    \n",
       "1                                          -0.396315                    \n",
       "2                                          -0.613124                    \n",
       "3                                           0.011724                    \n",
       "4                                          -0.027312                    \n",
       "\n",
       "   (caus, visual, error, apch, approach, traffic, final, runway, approach, bdl)  \\\n",
       "0                                           0.232811                              \n",
       "1                                           0.551869                              \n",
       "2                                          -0.103591                              \n",
       "3                                           0.523388                              \n",
       "4                                           0.350012                              \n",
       "\n",
       "   (safeti, accid, hold, final, clock, visual, alt, vector, crew, zbw)  \\\n",
       "0                                           0.087814                     \n",
       "1                                          -0.143439                     \n",
       "2                                          -0.034950                     \n",
       "3                                          -0.088111                     \n",
       "4                                          -0.118426                     \n",
       "\n",
       "   (nation, dscnt, sep, deg, hdg, base, radar, ra, smt, clb)  \\\n",
       "0                                          -0.388763           \n",
       "1                                           0.022909           \n",
       "2                                           0.285445           \n",
       "3                                           0.237683           \n",
       "4                                          -0.483673           \n",
       "\n",
       "   (transport, ta, hdg, ra, atc, twr, sight, tower, lgt, jet)  \n",
       "0                                           0.095124           \n",
       "1                                          -0.391933           \n",
       "2                                           0.047706           \n",
       "3                                          -0.243463           \n",
       "4                                          -0.023964           "
      ]
     },
     "execution_count": 52,
     "metadata": {},
     "output_type": "execute_result"
    }
   ],
   "source": [
    "dfloc = pd.DataFrame(scale(data[['Place.3', 'Place.5']]), columns=['dis', 'alt'])\n",
    "df_features = dfloc.join(dfnorm)\n",
    "df_features['dis'] = df_features['dis'].apply(lambda x: x * 1)\n",
    "df_features['alt'] = df_features['alt'].apply(lambda x: x * 1)\n",
    "df_features.to_csv('03-lsa.csv')\n",
    "df_features.head()"
   ]
  },
  {
   "cell_type": "markdown",
   "metadata": {},
   "source": [
    "Full forms of the above abbreviations:\n",
    "1. \n",
    "2. \n",
    "3. \n",
    "4.\n",
    "5.\n",
    "1. aircaft, error, standard, system, separation, between, Less Than Standard Separation\n",
    "2. control, boston air route traffic control center, experience, operator, at, separation, standard, feet\n",
    "3. Traffic Alert and Collision Avoidance, to, alert, aircaft, Resolution Advisory, Less Than Standard Separation, assign, descdent\n",
    "4. runways, on, aircraft, approach, experience, Less Than Standard Separation, operator, error\n",
    "5. Resolution Advisory, Traffic Alert and Collision Avoidance, report, crew, aircraft, approach runway, control"
   ]
  },
  {
   "cell_type": "markdown",
   "metadata": {},
   "source": [
    "1. Near mid air collision, , , Pattern\n",
    "2. aircraft, error, standard, Near mid air collision,\n",
    "3. separate, \n",
    "4.\n",
    "5."
   ]
  },
  {
   "cell_type": "markdown",
   "metadata": {},
   "source": [
    "# Analysis"
   ]
  },
  {
   "cell_type": "markdown",
   "metadata": {},
   "source": [
    "1. midair collision sma has pattern / less than standard separation system error oppuacied\n",
    "2. aircarrier error standard midair collision / in separate standard aircraft\n",
    "3. nmac operator "
   ]
  },
  {
   "cell_type": "markdown",
   "metadata": {},
   "source": [
    "# K-means"
   ]
  },
  {
   "cell_type": "code",
   "execution_count": 53,
   "metadata": {},
   "outputs": [
    {
     "name": "stdout",
     "output_type": "stream",
     "text": [
      "Kmeans++ clusters: [3 3 3 3 3 3 3 4 3 3 3 3 4 4 3 3 4 3 4 4 3 4 3 3 3 1 4 3 3 3 3 3 3 3 4 4 3\n",
      " 1 3 3 1 1 1 3 3 3 3 3 1 3 2 2 3 3 3 1 4 3 4 4 3 3 4 4 4 3 4 1 3 3 3 4 4 3\n",
      " 3 1 2 3 3 1 1 3 3 3 3 3 3 3 3 3 4 4 3 3 3 1 3 3 4 3 4 3 3 3 3 3 3 3 4 0 3\n",
      " 3 3 3 4 4 4 4 4 2 4 3 3 3 4 4 4 3 3 4 4 3 1 3 4 0 0 4 4 0 3 3 0 3 0 4 0 0\n",
      " 0 3 0 0 0 3 3 3 3 3 3 0 3 3 4 4 3 3 3 4 0 3 4 0 4 3 3 0 4 0 3 3 0 0 4 0 4\n",
      " 0 0 3 3 0 3 0 4 4 0 0 0 1 0 4 0 0 0 4 0 3 3 0 4 0 4 0 3 0 3 0 0 3 0 3 4 0\n",
      " 3 0 3 3 4 0 0 3 1 3 3 3 0 0 3 4 0 3 0 0 3 4 0 3 4 0 1 4 0 4 0 3 4 0 0 0 4\n",
      " 0 3 3 0 0 3 4 0 3 0 0 0 3 3 0 0 3 1 3 3 4 0 3 3 3 3 0 3 3 0 3 0 3 4 0 0 0\n",
      " 3 4 0 3 0 0 0 3 3 4 4 0 4 0 3 3 3 0 0 3 3 3 3 3 3 0 4 0 0 3 3 4 1 0 4 0 4\n",
      " 4 4 4 1 0 4 0 3 0 3 3 3 4 0 3 0 3 0 3 3 3 4 4 4 4 0 4 0 0 3 3 0 0 4 0 3 4\n",
      " 4 0 3 3 3 0 4 4 0 3 4 4 0 4 1 3 4 0 4 0 3 3 3 3 0 0 4 0 0 0 3 0 0 4 0 3 3\n",
      " 3 0 3 3 4 0 0 1 4 4 0 3 3 4 0 4 1 3 0 0 3 3 3 1 3 3 3 0 0 4 0 4 0 0 0 1 0\n",
      " 3 3 3 3 4 0 3 3 3 4 4 4 3 4 0 0 0 3 4 0 3 4 4 4 1 3 1 3 3 0 3 3 0 3 0 1 0\n",
      " 3 0 3 0 0 1 1 4 1 4 1 1 3 4 0 4 4 4 4 4 4 4 4 4 0 3 0 4 1 3 3 0 4 3 3 3 1\n",
      " 4 3 3 4 3 4 4 4 3 3 0 3 0 4 0 3 0 1 4 1 3 3 4 3 1 4 1 4 3 3 1 4 3 3 3 3 4\n",
      " 1 3 3 3 3 3 3 3 3 3 3 3 3 3 3 3]\n"
     ]
    }
   ],
   "source": [
    "from sklearn.cluster import KMeans\n",
    "\n",
    "k = 5\n",
    "kmeans = KMeans(n_clusters=k, init='k-means++', n_init=1)\n",
    "kmeans.fit_predict(df_features)\n",
    "Kcentroids = kmeans.cluster_centers_\n",
    "Klabels = kmeans.labels_\n",
    "print('Kmeans++ clusters:', Klabels)"
   ]
  },
  {
   "cell_type": "code",
   "execution_count": 54,
   "metadata": {},
   "outputs": [],
   "source": [
    "# Name k clusters\n",
    "Kasc_order_centroids = kmeans.cluster_centers_.argsort()#[:, ::-1]\n",
    "Korder_centroids = Kasc_order_centroids[:,::-1]\n",
    "Korder_centroids = np.array([[x - 2 for x in row if (x - 2) >= 0] for row in Korder_centroids]) # remove locations\n",
    "\n",
    "Kcluster_names = []\n",
    "for i in range(k):\n",
    "    label = [components[ind] for ind in Korder_centroids[i, :2]]\n",
    "    Kcluster_names.append(label)"
   ]
  },
  {
   "cell_type": "code",
   "execution_count": 55,
   "metadata": {},
   "outputs": [
    {
     "name": "stdout",
     "output_type": "stream",
     "text": [
      "['ACFT ON A CONTACT APCH TO THE ARPT CAME CLOSE TO A DEPARTING ACFT WHILE EXECUTING A MISSED APCH.', 'ACR X NON ADHERENCE TO ATC CLRNC BECAUSE OF TCASII TA. PLTDEV.', 'NMAC.', 'CPR OVERTAKES SMA JUST ENTERING ATA. NO TFC ADVISORIES.', 'ACR Y HAD LTSS FROM SMA X. SYS ERROR.', 'SMA HAS NMAC WHILE OVERFLYING TCA.', 'ACR MLG REVERSED CLB AND DSCNT 2500 FT IN RESPONSE TO TCASII RA.', 'TFC ADVISORY GIVEN BUT WRONG TFC SIGHTED. TCASII RA CAUSED FLC TO CLB UNTIL TCASII ANNOUNCED CLR OF TFC.', 'FLC OF MLG CLBING OUT OF HVN HAD TFC CONFLICT WITH SMA LIGHT ACFT FLYING OVERHEAD.', 'ACR X NON ADHERENCE TO ATC CLRNC RESPONDED TO TCASII RA STOPPED DSCNT AND CLBED. PLTDEV.', 'TCASII RA DICTATED CLB TO AVOID TFC.', 'NMAC WITH SAME DIRECTION TFC.', 'ACR X HAD LTSS FROM SMT Y. SYS ERROR. TCASII TA RA.', 'GOV LTT GETS IN PROX TO OTHER TFC IN VFR DSCNT PROC IN PROX OF CLOUDS.', 'APCH CTLR UNAUTHORIZED UNCOORD PENETRATION OF AIRSPACE WITH ATX Y HAD LTSS WITH ATX X. SYS ERROR.', 'CAPT OF MDT ACR ACFT RESPONDED TO TCASII RA AND CLBED ABOVE ASSIGNED ALT AND CLRED TFC BY APPROX 100 FT RESULTING IN A NMAC.', 'AN SMA HAD AN NMAC WITH ANOTHER SMA RIGHT AFTER TKOF. THE RPTING SMA CLAIMS THAT THE TWR TOLD HIM ONE DEP CLRNC AND THEN CHANGED IT IN THE AIR WHEN THE SECOND SMA COMPLAINED ABOUT THE NMAC.', 'ACR X TCASII TA RA DSND HAD LTSS FROM ACFT Y TCASII RA CLB. EVASIVE ACTION TAKEN. DSCNT TO OCCUPIED ALT. SYS ERROR.', 'ACR Y DSCNT IN HOLDING PATTERN TCASII RA CLB HAD LTSS FROM ACR X IN HOLDING PATTERN. EVASIVE ACTION TAKEN.', 'AN MLG ACR HAD AN NMAC WITH A SAILPLANE. EVASIVE ACTION COULD NOT BE TAKEN AS THERE WAS NO TIME.', 'CAPT OF ACR MDT ACFT DEV FROM ASSIGNED ALT IN RESPONSE TO A TCASII RA.', 'NMAC AT NON TWR ARPT.', 'NMAC', 'ACR X TCASII TA RA CLB EVASIVE ACTION TAKEN FROM ACR Y.', 'ACR X HAD LTSS FROM SMA Y. SYS ERROR. ACR X TCASII RA CLB.', 'COMMUTER ACFT RECEIVES TCASII RA TO CLB AFTER BEING TOLD SECOND ACFT WOULD LEVEL.', 'COMMUTER ACFT TAKES EVASIVE ACTION WHEN SMT SIGHTED.', 'PLT OF AN ATX SMT ACFT OPERATED THE ACFT IN AN UNAIRWORTHY CONDITION WITH KNOWN WING LEADING EDGE DAMAGE.', 'LTT COMPLIES WITH TCASII RA CONTRARY TO ATC INSTRUCTIONS.', 'ACR X TCASII RA WITH VFR SMA NON ADHERENCE TO ATC CLRNC UNAUTH CLB FROM ASSIGNED ALT HAD LTSS FROM ACR Z. PLTDEV.', '2 SMAS HAD AN NMAC OVER AN OM.', 'COMMUTER SMT HAS NMAC NEARING DEST ARPT.', 'ATC EQUIP PROB; TWR DOES SEEM TO RESPOND TO PLT COM. WEAK ATC XMISSIONS.', 'ACR X TCASII RA ON FINAL APCH EVASIVE ACTION TAKEN FROM ACR Y. NON ADHERENCE TO ATC INSTRUCTION.', \"2 SMA'S HAD AN NMAC IN AN UNCTLED ARPT TFC PATTERN.\", 'SMA HAS NMAC ON PRACTICE ILS APCH CIRCLE TO LAND.', 'ACR X CLB THROUGH OCCUPIED ALT HAD LTSS FROM CPR Y. SYS ERROR.', 'LTT ACR HAS NMAC WITH SMT IN TFC PATTERN.', 'FLC OF AN SMT CPR JET ACFT TOOK EVASIVE ACTION TO AVOID ANOTHER ACFT HEAD-ON ADVISED BY ATC.', 'AN SMA CUTS INTO PATTERN IN FRONT OF TWIN AT TWR CTLED ARPT.', 'NMAC.', 'ACR X TCASII TA FROM Y NON ADHERENCE TO ATC CLRNC LEFT ASSIGNED ALT. PLTDEV.', \"2 ACR LTT'S HAD AN NMAC OR LTSS AT NIGHT IN SCATTERED TO BROKEN WX CONDITIONS. ONE ACFT WAS IFR; THE OTHER VFR.\", 'TCASII POINTED OUT TFC.', 'SMT HAS AN NMAC WITH AN SMA WHOSE NAV LIGHTS WERE VERY DIM.', 'NMAC IN TFC PATTERN.', 'A TRACON CTLR QUESTIONS THE PROPRIETY OF AN ACR MDT TURNING IN RESPONSE TO A TCASII ALERT.', 'POTENTIAL CONFLICT IN THE TFC PATTERN.', '2 SMAS HAD AN NMAC AT AN UNCONTROLLED ARPT.', 'SMT HAS NMAC WITH LTT ON DSCNT INTO BOS.', 'ACR ATR-42 HAD LTSS FROM KING AIR SAME ALT ASSIGNED.', 'PLT OF A SMA SEL CUT IN FRONT OF ANOTHER ACFT ON FINAL CAUSING A NMAC.', 'RPTR ISSUED AN INCORRECT ALT TO ACFT 1 WHICH CAUSED THE TCASII RA TO ACTIVATE ON ACFT 2 AT THE SAME ALT. THERE WAS NO LOSS OF STANDARD SEPARATION.', 'COMMUTER ACFT HAS TCASII RA; RESPONDS.', \"ACFT 1; HAVING MADE A PRACTICE MISSED APCH; IS BEING VECTORED BY RPTR FOR ANOTHER ILS. RPTR OBSERVING THAT ACFT 2 IS DEPARTING ON A CONVERGING COURSE TO ACFT 1; INSTRUCTS THE TWR LCL CTLR TO TURN ACFT 2 ON COURSE. DUE TO ACFT 1'S HDG; THERE IS LOSS OF SEPARATION WHEN ACFT 2 TURNS INSIDE ACFT 1.\", 'ACR X UNCOORD UNAUTH PENETRATION OF AIRSPACE; DSCNT THROUGH OCCUPIED ALT HAD LTSS FROM Y. SYS ERROR.', 'WDB TAKES EVASIVE ACTION ON ILS FINAL IN RESPONSE TO A TCASII RA CAUSED BY AN INTRUDER IN CLASS B AIRSPACE.', 'TFC CONFLICT OCCURRED WHEN AN ARRIVING CESSNA PLT ATTEMPTED TO RECTIFY WRONGFULLY ENTERING A R DOWNWIND; BY PROCEEDING ON THE XWIND TO THE L DOWNWIND IN FRONT OF A DEP.', 'SMA ENTERS DOWNWIND FOR WRONG RWY. CLOSE PROX WITH SECOND ACFT.', 'OPERROR NMAC DURING MAP BY ACR X.', 'ACR X TCASII RA WITH VFR C172 REFUSED CLRNC RADAR VECTOR HDG. NONSTANDARD USE OF TCASII EVASIVE ACTION TURN.', 'SMA CIRCLING OVER HIS PROPERTY HAS NMAC WITH SECOND SMA ACFT.', 'ACR X CLB THROUGH OCCUPIED ALT VISUAL SEPARATION BY CTR RECEIVED TCASII RA WITH ACFT Y.', 'NMAC IN THE TFC PATTERN.', 'NMAC BTWN TO SMA SEL ACFT IN A CTLED TFC PATTERN FOR 2 DIFFERENT RWYS AND OPPOSITE DIRECTION PATTERNS.', 'NMAC BTWN A DEP SMA SEL IFR AND ANOTHER ACFT DSNDING WITHIN CLASS D AIRSPACE.', 'NMAC.', 'NMAC.', 'ACR X HAD NMAC WITH ACR BE02. VISUAL SEPARATION IN USE. SEE AND AVOID CONCEPT.', 'NMAC BTWN DEP ARR TFC AT ACK.', 'NMAC APPARENTLY CAUSED BY MHT TRACON.', 'CAPT OF LTT COMMUTER ACFT MADE A 270 DEG TURN IN ORDER TO PROVIDE SPACING WITH ANOTHER ACFT ON FINAL.', 'CAPT OF CPR JET TOOK EVASIVE ACTION BY DSNDING AFTER OBSERVING AN ACFT AT THE SAME ALT COMING STRAIGHT AT THEM.', \"ACR SF34 ON VECTOR AND GIVEN CLB BY DEP CTLR. SF34 GIVEN A CLB AND TURN BY DEP CTLR; AND AT THE SAME TIME SAW AN ACFT DSNDING AT HIS 11 O'CLOCK POS. SF34 GOT TCASII TO DSND AND DID THAT RATHER THAN CLB AS CLRED. THEN THE TCASII TOLD HIM TO 'CLB; CLB NOW.' AS A RESULT LTSS OCCURRED.\", 'SMA PERFORMING TRAINING MANEUVERS HAS NMAC WITH ATR42.', 'FLC OF AN MLG OVERSHOT ASSIGNED ALT DURING DEP CLB RESULTING IN ATC INTERVENTION BY PROVIDING A TURN TO PREVENT A CONFLICT.', \"NMAC. PVT GA PLT HAD INFLT ENCOUNTER WITH FLT OF MIL JETS. RPTR BELIEVES THEY WERE EXTREMELY CLOSE; BUT ALSO STATES SHE DOESN'T HAVE FAMILIARITY WITH MIL ACFT AND DIFFICULT TO JUDGE THEIR DISTANCE.\", 'NMAC WITH NEAR SAME ALT; XING TFC. TA GIVEN; TFC NOT SIGHTED AS IT WAS IN THE WRONG POS AS GIVEN BY THE APCH CTLR.', \"NMAC BTWN AN SMA SEL CLBING OUT OF AN UNCTLED ARPT AND A DC9 APCHING TO LAND AT A NEARBY LARGE ARPT. THE SMA 'DOVE' TO GET OUT OF THE FLT PATH OF THE DC9.\", 'A BE99 IFR AT 7000 FT HOLDING FOR A COMMUTER BE02 TO DEPART RUT ARPT BEFORE STARTING APCH CLAIMS THAT BE02 CAME WITHIN 500 FT AND ONE HALF MI FROM HIM. THE BE02 PLT STATED THAT HE WAS AT 6000 FT. SUPPOSEDLY; THE BE02 DEPARTED AFTER HIS VOID TIME HAD LAPSED.', \"NMAC BTWN AN LGT DSNDING AND A PIPER SENECA; PA34 XING THROUGH THE LGT'S FLT PATH.\", 'WX AVOIDANCE MANEUVER PLACES M20 PLT IN PROX OF ARR TFC ACFT. POTENTIAL CONFLICT.', 'A C172 PLT RPTS DSNDING WITHOUT AUTH AND CONFLICTING WITH AN ACR B737 THAT TAKES EVASIVE ACTION.', \"SMA ACFT ARRIVING AT NON RADAR ARPT HAD NMAC WITH DEPARTING ACR ACFT SETTING OFF THE ACR'S TCASII. CTLR INTERVENED TO TURN RPTR AS ACR ACFT TOOK EVASIVE ACTION.\", \"AN IFR COMMUTER ACFT WAS ISSUED A DSCNT CLRNC BELOW A VFR PA28 AT 2600 FT WITH TFC EXCHANGED WITH BOTH ACFT. THE COMMUTER ACFT RECEIVED A TCASII RA ON THE PA28 WHILE IN DSCNT; REVERSED COURSE; AND CLBED THROUGH THE PA28'S ALT. THE CTLR CLAIMS THAT THE UNNECESSARY TCASII RA TURNED A CTLED SIT INTO A DANGEROUS SIT.\", 'NMAC BTWN A PIPER PA28; AND A TWIN ENG CESSNA DURING CRUISE FLT AT AN ALT OF 3000 FT MSL.', 'PVT PLT OF A CHAMPION 76C-AA; SLOWED TO HELP PROVIDE MORE DISTANCE BTWN HIM AND ANOTHER ACFT XING IN FRONT OF HIM ON THE DOWNWIND LEG IN THE TFC PATTERN AT AN UNCTLED ARPT.', \"PLT OF A C206 ATX HAD CONFLICT WITH A SPARTAN EXECUTIVE ANTIQUE ACFT DURING ENTRY TO AN UNCTLED ARPT TFC PATTERN DURING PRE AIRSHOW PRACTICE AND SPECTATORS' ARR.\", 'ACR LTT ACFT CLBING FROM DEP ARPT HAD NMAC WITH NON XPONDER CESSNA TOWING GLIDER. RPTR QUESTIONS UNCTLED NON XPONDER ACFT FLYING IN BUSY IFR CORRIDOR.', 'AN SMA OVER MVY; MA; HAS A NEAR MISS WITH ANOTHER SMA AS THEIR FLT PATHS COINCIDE AND THE TRACON CANNOT RECEIVE 2 SEPARATE TARGETS. EVENTUALLY THE 2 ACFT SIGHT ONE ANOTHER AND TAKE EVASIVE ACTION.', 'FLC OF EMB120 RECEIVES A LATE HDOF FOR A VISUAL APCH. THIS PUTS THEM IN CONFLICT WITH LCL TFC IN THE PATTERN. EVASIVE ACTION REQUIRED.', 'APCH CTLR GAVE AN ACR LTT A DSCNT THROUGH THE ALT OF ANOTHER ACFT. THE ACR RECEIVED A TCASII TA AND AT THE SAME TIME THE CTLR TOLD THE ACR TO MAINTAIN 6000 FT FOR TFC. THE ACR HAD THE OTHER ACFT IN SIGHT AND CLBED BACK TO 6000 FT.', 'A BE02 WAS VECTORED AND SEQUENCED FOR A VISUAL APCH TO FOLLOW A B737 ON AN EXTENDED DOWNWIND LEG. WHEN THE B737 TURNED BASE LEG TO FINAL; THE BE02 WAS IN A POS BTWN THE B737 AND THE RWY. THE BE02 EXECUTED AN EVASIVE MANEUVER AND WAS RESEQUENCED BY APCH CTL.', 'A CE560 DEPARTS BUSY BOS; MA; AREA AND HAS AN ALTDEV DURING CLBOUT. AN APCHING ACFT RECEIVES A TCASII RA BECAUSE OF THE FIRST ACFT ALTDEV.', 'A CLBING ACR OVERSHOT HIS ALT AND COMES CLOSE TO THE ALT OF A DSNDING DH8 ON RADAR VECTORS INTO BOS.', 'PLT OF AN SMA SEL MADE GAR WHEN OBSERVING A HELI HOLDING ON APCH END OF THE RWY TO WHICH HE WAS ON FINAL APCH FOR LNDG AT AN UNCTLED ARPT.', \"FLC OF LR60 HAS NMAC ON FINAL APCH WITH A SINGLE ENG ACFT ON 'DOWNWIND' ON CTR OF FINAL APCH.\", 'WHILE DSNDING FOR AN APCH TO BOS; AN ACR FLC WAS INSTRUCTED BY ATC TO STOP DSCNT AND TURN BECAUSE OF TFC.', 'PLT OF A C172 ON DOWNWIND IN TFC PATTERN HAS HEAD ON TFC AT SAME ALT. HE TURNS AS DOES THE PA28 PLT. CONTINUING THE APCH RPTR SIGHTS THE OTHER ACFT APCHING FROM THE R AND ABOVE. THE SECOND ACFT FINALLY TAKES ACTION AND TURNS AWAY; BUT LATER COMPLAINS THAT HE WAS CUT OFF.', 'CTLR RESPONSIBLE FOR THE POS WAS MONITORING A TRAINEE WITH 70 HRS OF TRAINING AND NO PREVIOUS RADAR EXPERIENCE. DURING A BUSY SESSION; A RWY CLOSURE; AND A CONFIGN CHANGE; THE TRAINEE GOT BEHIND AND ALLOWED ACFT #1 AND ACFT #2 TO CONFLICT ON THE DOWNWIND TO THE ARPT.', 'A DA10 ON APCH TO RWY 1 AT RUT EXPERIENCES AN NMAC 2 MI OUT ON FINAL WITH A T6 ON DOWNWIND AT TFC PATTERN ALT FOR RWY 31.', 'PLT OF A PA28-161 HAS CLOSE ENCOUNTER WITH A SKYDIVER WHEN MAKING AN APCH TO A CTLED FIELD. THEY CAME WITHIN 1000 FT OF EACH OTHER.', \"FLC OF AN MD88 HAS DIFFICULTY SIGHTING TFC TO FOLLOW. WHEN THEY DO SIGHT 'SOMETHING' IT TURNS OUT TO BE A C172 MANEUVERING. TCASII TA; THEN RA ACTIVATES. CTLR DID HAVE THE TFC ON RADAR; THOUGH NO COM.\", 'PA28 AND PA38 HAD NMAC IN BED ARPT TFC PATTERN.', 'IN NIGHTTIME CONDITIONS; AN LTT ACR CREW ADVISED BDL APCH THEY HAD UNKNOWN VFR TFC AHEAD IN SIGHT. A SHORT TIME LATER THE CREW TOOK EVASIVE ACTION TO PASS AND AVOID THE TFC/', 'A PA28-181 AT 3500 FT; VFR; IS OVERTAKEN BY AN IFR GIV ACFT DSNDING THROUGH THEIR ALT; 450 FT TO THE L. NMAC.', 'FLC OF A CPR CANADAIR CHALLENGER CL604 (CL60) COMPLAINS OF ATC HANDLING PROCS OF TFC WATCH SMA ACFT CRUISING IN TFC PATTERN NEAR OTHER ACFT. CAUSED TCASII TA DURING DOWNWIND LEG.', 'NMAC BTWN A BEECH AIRLINER 1900 CLBING OUT ON DEP AND AN UNKNOWN ACFT COMING IN THE OPPOSITE DIRECTION AND PASSING OVER AT 300 FT ABOVE. TCASII ALERTED TFC COMING IN THE OPPOSITE DIRECTION AND THE DEP CTLR INSTRUCTED THE RPTR TO LEVEL OFF AND TURN L.', 'BE33 PLT AVOIDS CONFLICTING TFC DSNDING INTO BDL.', 'A DEPARTING CHEROKEE HAS AN NMAC WITH AN UNKNOWN VFR C182 W OF MHT; NH.', 'CAP C182 ON SEARCH MISSION HAS NEAR MISS WITH C172 IN THE TFC PATTERN OF UNCTLED ARPT.', 'RPTR STATES THAT ACFT X WAS GIVEN THE SAME ALT OF ACFT Y. RPTR TRIED TO STOP THE DSCNT OF ACFT X -- IT WAS TOO LATE. LTSS.', \"CAPT OF AN ATX SMT TURBOPROP LEVELED OFF AT AN INAPPROPRIATE ALT DURING A VFR DSCNT CAUSING AN NMAC WITH ANOTHER ACFT COMING FROM THE OPPOSITE DIRECTION. APCH CTLR ALERTED HIM TO THE ERROR AFTER THE CAPT CONTACTED APCH FOR RA'S.\", 'PA28 PLT DID NOT FOLLOW TWR INSTRUCTIONS FOR PATTERN ENTRY AT BED.', 'A NEAR NMAC OCCURS AT THE END OF RWY 27 WHEN A B727-200 PERFORMS A GAR AND NEARLY HITS A DEP SF340 ON INITIAL CLB OFF RWY 22R AT BOS; MA.', 'FLC OF A B737-300 DSNDED AND TURNED DURING INITIAL CLBOUT IN RESPONSE TO TCASII RA CAUSED BY ANOTHER ACFT DSNDING CONTRARY TO THEIR CLASS C CLRNC.', 'PA28 INSTRUCTOR AND PLT WERE REQUIRED TO TAKE EVASIVE ACTION DEPARTING BED ARPT.', 'FLC OF AN LTT WHILE DSNDING WERE REQUESTED BY APCH CTL TO HOLD ALT AND TURN. RIGHT AFTER WHICH THEY TOOK EVASIVE ACTION IN RESPONSE TO A TCASII RA AND THEN SUBSEQUENTLY A SECOND ACTION IN RESPONSE TO A SECOND TCASII RA.', 'NMAC BTWN A PIPER PA30; TWIN COMANCHE; DSNDING TO 5000 FT AND A COMMUTER JET MAKING A CLBING TURN. BOTH ACFT TOOK EVASIVE ACTION AND APCH CTLR ISSUED ADVISORY TO THE RPTING PLT OF THE PA30.', 'A HAWKER 800 CPR FLC HAS AN NMAC WITH A C182 ON A 2 1/2 NM FINAL AND NOTED THAT THE CTLR WAS NOT ABLE TO MAINTAIN SEPARATION BTWN ACFT IN THE AIR AND ON THE GND AT HYA; MA.', 'B737 FLC TAKE EVASIVE ACTION AFTER OBSERVING ANOTHER ACFT COMING TOWARD THEM DURING CLBOUT WHICH HAD BEEN GIVEN BY ATC AS A PRIMARY TARGET WITH UNKNOWN ALT READOUT OR CONTACT WITH APCH CTL IN CLASS C AIRSPACE.', 'FLC OF A BE1900 STOPPED DSCNT IN RESPONSE TO A TCASII TFC CALLOUT AND THEN OBSERVED A SINGLE ENG PIPER ACFT CROSS UNDERNEATH THEM AT THE ALT TO WHICH THEY WERE ASSIGNED ON DSCNT.', 'A PA28 PLT HAS AN NMAC WITH A MURDY CAP-10 (A FRENCH IMPORT) 3 MI W OF NASHUA ARPT. IN HIS EVASIVE DIVE; HE MAY HAVE ENTERED THE CLASS D AIRSPACE OF ASH; NH.', 'ZBW CTLR ATTEMPTS TO VECTOR DSNDING AT43 WHEN OBSERVING A CONFLICT WITH AN ENRTE AC11.', 'AN APCH IS ABANDONED WHEN MULTIPLE FACTORS COME TOGETHER TO RAISE THE CONFUSION FACTOR OF ALL PARTIES INVOLVED MAKING IT THE MOST PRUDENT COURSE OF ACTION.', 'A DEP B737-800 PIC IS CHIDED FOR FLYING INTO A NOISE SENSITIVE AREA WHEN HE HAD DELAYED HIS LOGAN 2 DEP PROC TURN AT 4 DME TO 100 DEGS FOR 1 PT 5 NM. CAPT MADE THE DECISION BECAUSE OF VFR TFC HOLDING ON HIS PROJECTED DEP RTE 500 FT ABOVE; 4 NM FROM BOS; MA.', 'B767 INITIATES TCASII RA MANEUVER TO AVOID A B757 WHEN ON VECTOR TO BOS RWY 4R FINAL APCH COURSE BY A80.', \"AN MU2 ACFT UNDER CTL OF PVD APCH ENTERED ANOTHER CTLR'S AIRSPACE WITHOUT CTLR COORD RESULTING IN A SERIOUS CONFLICT WITH A B737.\", 'INSTRUCTOR AND STUDENT IN C152 TURN DOWNWIND LEG ABOUT THE SAME TIME A C401 ALSO TURNS DOWNWIND AT A HIGHER ALT.', 'PLT OF BK117 ROTOR CRAFT NARROWLY AVOIDED CONTACT WITH UNLIGHTED 2049 FT MSL TWR E OF ORH. PLT WAS AT CRUISE AT 2000 FT MSL AT THE TIME.', 'BTV CTLR EXPERIENCED LOSS OF SEPARATION BTWN ARR AND DEP TFC.', 'WHILE TRANSITING CLASS D AIRSPACE; A C172 PLT HAS A CLOSE ENCOUNTER WITH A JET ACFT.', 'A PA30 PLT HAS AN NMAC WITH A C182 WHILE RECEIVING FLT FOLLOWING FROM CAPE APCH.', 'C172 INSTRUCTOR AND STUDENT HAD AN NMAC WITH A TWIN CESSNA IN EWB CLASS D.', 'ZBW EXPERIENCED LOSS OF SEPARATION WITH C550 AND BE36 AT 6000 FT.', 'VANS RV6A AND A C172 HAD AN NMAC NEAR MHT.', 'PVD CTLR EXPERIENCED OPERROR AT 7000 FT WITH 2 GA ACFT. WRONG ACFT CALL SIGN WAS USED; RESULTING IN THE CONFLICTING ACFT ACCEPTING A FREQ CHANGE.', 'A402 ENTERING TFC PATTERN AT MVY AT 1200 FT EXPERIENCED NMAC WITH C402 DEPARTING PATTERN.', \"A LEARJET 60 EXECUTED AN 'RA CLB' MANEUVER ON FINAL APCH WITH NO TFC IN SIGHT.\", 'PA31 WITH K90 EXPERIENCED CONFLICT WITH C402 ON DEP FROM ACK.', 'FALCON DA50 HAS A TCAS RA DURING VISUAL APCH TO HVN.', 'PA28 PLT HAS CLOSE ENCOUNTER WITH SKYDIVER OVER 7B9 ARPT AT 5500 FT.', 'ZBW CTLR DESCRIBED AN NMAC AT 5500 FT RPTED BY A VFR ACFT ON FREQ; INDICATING LACK OF DATA BLOCK INFO ON SECOND ACFT.', 'B757-200 ON APCH TO BOS RWY33L EXPERIENCES TCAS RA WITH ACFT ON FINAL FOR RWY 32.']\n"
     ]
    }
   ],
   "source": [
    "def find_report(cluster_num):\n",
    "    report = [data.iloc[i]['Report 1.2'] for i in range(len(Klabels)) if Klabels[i] == cluster_num]\n",
    "    print(report)\n",
    "find_report(0)"
   ]
  },
  {
   "cell_type": "code",
   "execution_count": 37,
   "metadata": {},
   "outputs": [
    {
     "name": "stdout",
     "output_type": "stream",
     "text": [
      "['ACR CLIMBED THROUGH ALT OCCUPIED BY ANOTHER ACFT.', 'ACR BEING VECTORED WAS ISSUED AN IMMEDIATE DESCENT BECAUSE OF CONFLICTING TRAFFIC.', 'ACR CONFLICTED WITH ANOTHER ACFT AT THE SAME ALT.', 'ACR WAS CLEARED INTO THE HOLDING PATTERN AT THE SAME ALT ASSIGNED TO ANOTHER ACR.', 'ACR DEVIATING AROUND WX CAME IN CLOSE PROX TO ANOTHER ACR OVER THE OCEAN.', 'ACR DEVIATING FOR WX OVER THE OCEAN CONFLICTED WITH ANOTHER ACR AT THE SAME ALT.', 'ACR WDB EXPERIENCED LESS THAN STANDARD SEPARATION WITH ANOTHER ACFT WHILE IN DESCENT ON RADAR VECTOR.', 'ACR Y HAD LESS THAN STANDARD SEPARATION FROM ACR X. SYSTEM ERROR.', 'ACR X HAD LESS THAN STANDARD SEPARATION FROM ACR Y. SYSTEM ERROR.', 'WHILE BEING VECTORED BY ZBW; ACR LGT WAS ADVISED OF A CONFLICT ALERT AND TO TURN IMMEDIATELY AND DESCEND FOR TRAFFIC AVOIDANCE.', 'ACR Y HAD LESS THAN STANDARD SEPARATION FROM BMB X FLT. SYSTEM ERROR.', \"MDT JET AT 41000' MSL WAS TOO HIGH FOR ACFT CAPABILITY. AIRSPEED DECAYED. ACFT BUFFET ENSUED. ACFT HAD TO DESCEND TO LOWER ALT FOR STABILITY. MAY HAVE DESCENDED THROUGH ALT OF TWO ACFT IN THE APPROX AREA.\", 'ACR X DSCNT TO OCCUPIED ALT HAD LTSS WITH ACR Y. SYSTEM ERROR.', 'EXPERIMENTAL MLG ON TEST FLT HAS NMAC WITH ACR.', 'HVT CLB THROUGH OCCUPIED ALT HAD LTSS FROM G4. SYS ERROR.', 'FLC OF A SUPER MD80 CLBED ABOVE ASSIGNED ALT IN RESPONSE TO A TCASII RA. THE OTHER ACFT WAS OBSERVED BY THE FLC LEVELING OFF AT ASSIGNED ALT; 1000 FT BELOW WHEN THE 2 ACFT PASSED.', 'RPTR STATES THAT SECTOR WAS BUSY AND STANDARD SEPARATION WAS LOST BTWN ACFT X AND Y.', 'ZBW ARTCC CTLR INADVERTENTLY HANDED TFC OFF TO THE WRONG SECTOR RESULTING IN AN OPDEV.', 'AN A319 CREW IN ZBW AIRSPACE BELIEVED THEY WERE CLRED TO LEAVE FL330 FOR FL230 AND CONFLICTED WITH AN LJ35 CLBING TO FL310.', 'B757 HAS TO CLB 500 FT ON A TCASII RA WHEN OPPOSITE DIRECTION TFC OVERSHOOTS ITS ASSIGNED ALT BY 500 FT; 50 MI W OF PVD; RI.', 'AFTER APPLYING RVSM SEPARATION BTWN AN E145 AND A B747; A ZBW CTLR LEARNS THE E145 ACFT IS NOT PROPERLY EQUIPPED FOR RVSM.', 'A CL65 FLT CREW RECEIVES A TCASII RA WHILE AT CRUISE ALT IN VICINITY OF ZBW ZNY AIRSPACE.', 'B747 AT FL350 CHANGES TO BOS ALT FOR DSCNT; CLBS 700 FT; AND CONFLICTED WITH ENRTE F900.', 'ZBW CTLR EXPERIENCED LOSS OF SEPARATION AT FL310.', 'ZBW RADAR ASSOCIATE AND RADAR CTLR ARE UNABLE TO CORRECT A CONFLICT BTWN A DSNDING B737 AND AN ENRTE LEVEL B767 DUE TO FREQ BLOCKED XMISSIONS AND AN INCORRECT ALT DATA BLOCK ENTRY.', 'ZBW RADAR ASSOCIATE WITNESSED OPERROR AT FL240 WHEN RADAR CTLR ISSUED CONFLICTING ALT ASSIGNMENTS.', 'ZBW CTLRS EXPRESS CONCERN REGARDING BACK-UP FREQ THAT DOES NOT PROVIDE COVERAGE FOR ENTIRE SECTOR.', 'ZBW CTLR EXPERIENCED OPERROR AT FL280 WITH CLIMBING/CROSSING TFC; OBSERVING ONE ALT IN DATA BLOCK; BUT ISSUING ANOTHER.', 'ZBW CTLR EXPERIENCED OPERROR AT FL250 MISJUDGING ACFT SPACING AND FAILING TO NOTE AIRSPEED CHANGES.', 'ZBW CTLR DESCRIBED NEAR LOSS OF SEPARATION DURING BUSY/COMPLEX TFC PERIOD; CITING LACK OF SUPVR/TMU OVERSIGHT AS CONTRIBUTORY.', 'ZBW CTLR EXPERIENCED OPERROR AT FL285 WITH TWO ACFT PASSING ONE ANOTHER SHORTLY AFTER ASSUMING THE POSITION.', 'ZBW controller providing OJT was late in taking over the position and issuing corrective turns resulting in loss of separation; reporter indicating he/she allowed the trainee to stray beyond his/her limitations.']\n"
     ]
    }
   ],
   "source": [
    "find_report(1)"
   ]
  },
  {
   "cell_type": "code",
   "execution_count": 56,
   "metadata": {
    "scrolled": false
   },
   "outputs": [
    {
     "data": {
      "image/png": "[encoded data removed]",
      "text/plain": [
       "<matplotlib.figure.Figure at 0x10e1c0b70>"
      ]
     },
     "metadata": {},
     "output_type": "display_data"
    }
   ],
   "source": [
    "# Plot k-means++\n",
    "plt.figure(figsize=(15, 15))\n",
    "colors = ['#85144b', '#0074D9', '#7FDBFF', '#39CCCC', '#3D9970', '#2ECC40', '#01FF70', '#FFDC00', '#FF851B', '#FF4136', '#AAAAAA', '#222222']\n",
    "\n",
    "for cluster_index in range(k):\n",
    "    alt = [data.iloc[i]['Place.5'] for i in range(len(Klabels)) if Klabels[i] == cluster_index]\n",
    "    dis = [data.iloc[i]['Place.3'] for i in range(len(Klabels)) if Klabels[i] == cluster_index]\n",
    "    plt.scatter(x=dis, y=alt, c=colors[cluster_index], label = Kcluster_names[cluster_index], s=20)\n",
    "\n",
    "plt.legend()\n",
    "plt.xlabel('Distance')\n",
    "plt.ylabel('Altitude')\n",
    "plt.title('K-means++')\n",
    "plt.show()"
   ]
  },
  {
   "cell_type": "code",
   "execution_count": null,
   "metadata": {},
   "outputs": [],
   "source": []
  }
 ],
 "metadata": {
  "kernelspec": {
   "display_name": "Python 3",
   "language": "python",
   "name": "python3"
  },
  "language_info": {
   "codemirror_mode": {
    "name": "ipython",
    "version": 3
   },
   "file_extension": ".py",
   "mimetype": "text/x-python",
   "name": "python",
   "nbconvert_exporter": "python",
   "pygments_lexer": "ipython3",
   "version": "3.5.1"
  }
 },
 "nbformat": 4,
 "nbformat_minor": 2
}
