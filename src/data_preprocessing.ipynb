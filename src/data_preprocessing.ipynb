{
 "cells": [
  {
   "cell_type": "markdown",
   "metadata": {},
   "source": [
    "# Data Retrieval, Preprocessing and LSA"
   ]
  },
  {
   "cell_type": "markdown",
   "metadata": {},
   "source": [
    "We retrieve our data from https://asrs.arc.nasa.gov/search/database.html (NASA’s Aviation Safety Reporting System) to analyze pilot and controller narratives to gain more insight into midair collisions and the factors affecting them.\n",
    "Our study are limited \n",
    "To that end, please limit your study of narratives on the ASRS website to collisions. We do not differentiate between near midair collisions and actual midair collisions, since they are both events we wish to understand better."
   ]
  },
  {
   "cell_type": "code",
   "execution_count": 1,
   "metadata": {},
   "outputs": [],
   "source": [
    "import numpy as np\n",
    "import json as js\n",
    "import pandas as pd\n",
    "import matplotlib.pyplot as plt"
   ]
  },
  {
   "cell_type": "code",
   "execution_count": 63,
   "metadata": {},
   "outputs": [
    {
     "data": {
      "text/html": [
       "<div>\n",
       "<style>\n",
       "    .dataframe thead tr:only-child th {\n",
       "        text-align: right;\n",
       "    }\n",
       "\n",
       "    .dataframe thead th {\n",
       "        text-align: left;\n",
       "    }\n",
       "\n",
       "    .dataframe tbody tr th {\n",
       "        vertical-align: top;\n",
       "    }\n",
       "</style>\n",
       "<table border=\"1\" class=\"dataframe\">\n",
       "  <thead>\n",
       "    <tr style=\"text-align: right;\">\n",
       "      <th></th>\n",
       "      <th>index</th>\n",
       "      <th></th>\n",
       "      <th>Time</th>\n",
       "      <th>Time.1</th>\n",
       "      <th>Place</th>\n",
       "      <th>Place.1</th>\n",
       "      <th>Place.2</th>\n",
       "      <th>Place.3</th>\n",
       "      <th>Place.4</th>\n",
       "      <th>Place.5</th>\n",
       "      <th>...</th>\n",
       "      <th>Events.4</th>\n",
       "      <th>Events.5</th>\n",
       "      <th>Assessments</th>\n",
       "      <th>Assessments.1</th>\n",
       "      <th>Report 1</th>\n",
       "      <th>Report 1.1</th>\n",
       "      <th>Report 2</th>\n",
       "      <th>Report 2.1</th>\n",
       "      <th>Report 1.2</th>\n",
       "      <th>Unnamed: 96</th>\n",
       "    </tr>\n",
       "  </thead>\n",
       "  <tbody>\n",
       "    <tr>\n",
       "      <th>0</th>\n",
       "      <td>0</td>\n",
       "      <td>ACN</td>\n",
       "      <td>Date</td>\n",
       "      <td>Local Time Of Day</td>\n",
       "      <td>Locale Reference</td>\n",
       "      <td>State Reference</td>\n",
       "      <td>Relative Position.Angle.Radial</td>\n",
       "      <td>Relative Position.Distance.Nautical Miles</td>\n",
       "      <td>Altitude.AGL.Single Value</td>\n",
       "      <td>Altitude.MSL.Single Value</td>\n",
       "      <td>...</td>\n",
       "      <td>When Detected</td>\n",
       "      <td>Result</td>\n",
       "      <td>Contributing Factors / Situations</td>\n",
       "      <td>Primary Problem</td>\n",
       "      <td>Narrative</td>\n",
       "      <td>Callback</td>\n",
       "      <td>Narrative</td>\n",
       "      <td>Callback</td>\n",
       "      <td>Synopsis</td>\n",
       "      <td>NaN</td>\n",
       "    </tr>\n",
       "    <tr>\n",
       "      <th>1</th>\n",
       "      <td>1</td>\n",
       "      <td>81135</td>\n",
       "      <td>198801</td>\n",
       "      <td>0601-1200</td>\n",
       "      <td>BDR; 0N0</td>\n",
       "      <td>CT</td>\n",
       "      <td>360</td>\n",
       "      <td>9</td>\n",
       "      <td>NaN</td>\n",
       "      <td>2500</td>\n",
       "      <td>...</td>\n",
       "      <td>NaN</td>\n",
       "      <td>Flight Crew Took Evasive Action</td>\n",
       "      <td>NaN</td>\n",
       "      <td>Human Factors</td>\n",
       "      <td>F/O FLYING ACFT FROM LEFT SEAT. BLUE AND WHITE...</td>\n",
       "      <td>NaN</td>\n",
       "      <td>NaN</td>\n",
       "      <td>NaN</td>\n",
       "      <td>HELICOPTER ENCOUNTERED SMA ACFT IN SEE AND AVO...</td>\n",
       "      <td>NaN</td>\n",
       "    </tr>\n",
       "    <tr>\n",
       "      <th>2</th>\n",
       "      <td>2</td>\n",
       "      <td>81311</td>\n",
       "      <td>198801</td>\n",
       "      <td>1201-1800</td>\n",
       "      <td>BAF</td>\n",
       "      <td>MA</td>\n",
       "      <td>NaN</td>\n",
       "      <td>22</td>\n",
       "      <td>NaN</td>\n",
       "      <td>4500</td>\n",
       "      <td>...</td>\n",
       "      <td>NaN</td>\n",
       "      <td>Flight Crew Took Evasive Action</td>\n",
       "      <td>NaN</td>\n",
       "      <td>Human Factors</td>\n",
       "      <td>WHILE LEVEL AT 4500'; HDG 246 DEGS ON VICTOR 1...</td>\n",
       "      <td>NaN</td>\n",
       "      <td>NaN</td>\n",
       "      <td>NaN</td>\n",
       "      <td>CLOSE PROX GA-SMA GA-SMT ON V106.</td>\n",
       "      <td>NaN</td>\n",
       "    </tr>\n",
       "    <tr>\n",
       "      <th>3</th>\n",
       "      <td>3</td>\n",
       "      <td>81663</td>\n",
       "      <td>198801</td>\n",
       "      <td>0601-1200</td>\n",
       "      <td>PYM</td>\n",
       "      <td>MA</td>\n",
       "      <td>NaN</td>\n",
       "      <td>2</td>\n",
       "      <td>NaN</td>\n",
       "      <td>800</td>\n",
       "      <td>...</td>\n",
       "      <td>NaN</td>\n",
       "      <td>Flight Crew Executed Go Around / Missed Approach</td>\n",
       "      <td>NaN</td>\n",
       "      <td>Human Factors</td>\n",
       "      <td>I WAS INVOLVED IN A NMAC WHILE ON FINAL APCH T...</td>\n",
       "      <td>NaN</td>\n",
       "      <td>NaN</td>\n",
       "      <td>NaN</td>\n",
       "      <td>CLOSE PROX 2 GA-SMA ACFT IN TRAFFIC PATTERN AT...</td>\n",
       "      <td>NaN</td>\n",
       "    </tr>\n",
       "    <tr>\n",
       "      <th>4</th>\n",
       "      <td>4</td>\n",
       "      <td>81862</td>\n",
       "      <td>198802</td>\n",
       "      <td>1201-1800</td>\n",
       "      <td>BED</td>\n",
       "      <td>MA</td>\n",
       "      <td>NaN</td>\n",
       "      <td>15</td>\n",
       "      <td>NaN</td>\n",
       "      <td>3500</td>\n",
       "      <td>...</td>\n",
       "      <td>NaN</td>\n",
       "      <td>Flight Crew Took Evasive Action</td>\n",
       "      <td>NaN</td>\n",
       "      <td>Human Factors</td>\n",
       "      <td>WHILE ON CROSS-COUNTRY VFR FROM ORANGE; MA TO ...</td>\n",
       "      <td>NaN</td>\n",
       "      <td>NaN</td>\n",
       "      <td>NaN</td>\n",
       "      <td>CLOSE PROX GA SMA AND PARACHUTIST IN RESTRICTE...</td>\n",
       "      <td>NaN</td>\n",
       "    </tr>\n",
       "  </tbody>\n",
       "</table>\n",
       "<p>5 rows × 98 columns</p>\n",
       "</div>"
      ],
      "text/plain": [
       "   index           Time             Time.1             Place          Place.1  \\\n",
       "0      0    ACN    Date  Local Time Of Day  Locale Reference  State Reference   \n",
       "1      1  81135  198801          0601-1200          BDR; 0N0               CT   \n",
       "2      2  81311  198801          1201-1800               BAF               MA   \n",
       "3      3  81663  198801          0601-1200               PYM               MA   \n",
       "4      4  81862  198802          1201-1800               BED               MA   \n",
       "\n",
       "                          Place.2                                    Place.3  \\\n",
       "0  Relative Position.Angle.Radial  Relative Position.Distance.Nautical Miles   \n",
       "1                             360                                          9   \n",
       "2                             NaN                                         22   \n",
       "3                             NaN                                          2   \n",
       "4                             NaN                                         15   \n",
       "\n",
       "                     Place.4                    Place.5     ...      \\\n",
       "0  Altitude.AGL.Single Value  Altitude.MSL.Single Value     ...       \n",
       "1                        NaN                       2500     ...       \n",
       "2                        NaN                       4500     ...       \n",
       "3                        NaN                        800     ...       \n",
       "4                        NaN                       3500     ...       \n",
       "\n",
       "        Events.4                                          Events.5  \\\n",
       "0  When Detected                                            Result   \n",
       "1            NaN                   Flight Crew Took Evasive Action   \n",
       "2            NaN                   Flight Crew Took Evasive Action   \n",
       "3            NaN  Flight Crew Executed Go Around / Missed Approach   \n",
       "4            NaN                   Flight Crew Took Evasive Action   \n",
       "\n",
       "                         Assessments    Assessments.1  \\\n",
       "0  Contributing Factors / Situations  Primary Problem   \n",
       "1                                NaN    Human Factors   \n",
       "2                                NaN    Human Factors   \n",
       "3                                NaN    Human Factors   \n",
       "4                                NaN    Human Factors   \n",
       "\n",
       "                                            Report 1 Report 1.1   Report 2  \\\n",
       "0                                          Narrative   Callback  Narrative   \n",
       "1  F/O FLYING ACFT FROM LEFT SEAT. BLUE AND WHITE...        NaN        NaN   \n",
       "2  WHILE LEVEL AT 4500'; HDG 246 DEGS ON VICTOR 1...        NaN        NaN   \n",
       "3  I WAS INVOLVED IN A NMAC WHILE ON FINAL APCH T...        NaN        NaN   \n",
       "4  WHILE ON CROSS-COUNTRY VFR FROM ORANGE; MA TO ...        NaN        NaN   \n",
       "\n",
       "  Report 2.1                                         Report 1.2 Unnamed: 96  \n",
       "0   Callback                                           Synopsis         NaN  \n",
       "1        NaN  HELICOPTER ENCOUNTERED SMA ACFT IN SEE AND AVO...         NaN  \n",
       "2        NaN                  CLOSE PROX GA-SMA GA-SMT ON V106.         NaN  \n",
       "3        NaN  CLOSE PROX 2 GA-SMA ACFT IN TRAFFIC PATTERN AT...         NaN  \n",
       "4        NaN  CLOSE PROX GA SMA AND PARACHUTIST IN RESTRICTE...         NaN  \n",
       "\n",
       "[5 rows x 98 columns]"
      ]
     },
     "execution_count": 63,
     "metadata": {},
     "output_type": "execute_result"
    }
   ],
   "source": [
    "# Retrieve the data from the csv file\n",
    "data = pd.read_csv(\"ASRS_DBOnline.csv\",index_col=0).reset_index()\n",
    "# Dropping those who do not have relative distance and \n",
    "data = data.dropna(subset=['Place.3','Place.5','Report 1.2']).reset_index()\n",
    "data.head()"
   ]
  },
  {
   "cell_type": "code",
   "execution_count": 64,
   "metadata": {},
   "outputs": [],
   "source": [
    "# Extracting 2 columns(reports) we care about\n",
    "report1 = data['Report 1']\n",
    "report2 = data['Report 1.2']"
   ]
  },
  {
   "cell_type": "code",
   "execution_count": 130,
   "metadata": {},
   "outputs": [
    {
     "name": "stdout",
     "output_type": "stream",
     "text": [
      "[nltk_data] Downloading package punkt to /Users/m804/nltk_data...\n",
      "[nltk_data]   Package punkt is already up-to-date!\n"
     ]
    }
   ],
   "source": [
    "# Preprocessing of the data by stemming \n",
    "from nltk.stem import PorterStemmer\n",
    "from nltk.tokenize import sent_tokenize, word_tokenize\n",
    "import nltk\n",
    "nltk.download('punkt')\n",
    "\n",
    "ps = PorterStemmer()\n",
    "new_report = []\n",
    "word_data = []\n",
    "\n",
    "insignificant_terms = ['us','were','our','we','NMAC','air','data','follow','in','the','had','for','from','on','to','with','and','while','','than','less','in','of','at','an','has']\n",
    "for i in range(0,len(report2)):\n",
    "    temp_report = ''\n",
    "    # Stem the narratives of each report\n",
    "    if pd.isnull(report2[i]) != True:\n",
    "        words = word_tokenize(report2[i])\n",
    "        for w in words:\n",
    "            if w not in word_data:\n",
    "                word_data.append([w, ps.stem(w)])\n",
    "            w = ps.stem(w)\n",
    "            # Add the insignificant words here \n",
    "            if w not in insignificant_terms:\n",
    "                temp_report += (w + \" \")\n",
    "        words = word_tokenize(report1[i])\n",
    "        for w in words:\n",
    "            if w not in word_data:\n",
    "                word_data.append([w, ps.stem(w)])\n",
    "            w = ps.stem(w)\n",
    "            # Add the insignificant words here \n",
    "            if w not in insignificant_terms:\n",
    "                temp_report += (w + \" \")\n",
    "        new_report.append((temp_report))"
   ]
  },
  {
   "cell_type": "code",
   "execution_count": 131,
   "metadata": {},
   "outputs": [],
   "source": [
    "# Tfid Vectorizer\n",
    "from sklearn.feature_extraction.text import TfidfVectorizer\n",
    "V = TfidfVectorizer(min_df =4, max_df =0.8)\n",
    "dtm = V.fit_transform(new_report)\n",
    "terms = V.get_feature_names()\n",
    "\n",
    "# Center the dtm\n",
    "dtm_dense = dtm.todense()\n",
    "centered_dtm = dtm_dense - np.mean(dtm_dense, axis=0)\n",
    "np.sum(centered_dtm,axis=0)[:,:10]\n",
    "\n",
    "# Apply SVD to centered_dtm\n",
    "from sklearn.decomposition import TruncatedSVD\n",
    "from sklearn.preprocessing import Normalizer\n",
    "lsa = TruncatedSVD(5, algorithm = 'randomized')\n",
    "dtm_lsa = lsa.fit_transform(centered_dtm)\n",
    "# Normalize the dtm\n",
    "dtm_lsa = Normalizer(copy=False).fit_transform(dtm_lsa)"
   ]
  },
  {
   "cell_type": "code",
   "execution_count": 132,
   "metadata": {},
   "outputs": [
    {
     "data": {
      "text/plain": [
       "[['we', 'tcasii', 'ft', 'ra', 'clb', 'us', 'tfc', 'atc'],\n",
       " ['acr', 'sector', 'issu', 'separ', 'radar', 'ctlr', 'zbw', 'hold'],\n",
       " ['acr', 'we', 'turn', 'rwi', 'twr', 'deg', 'hdg', 'apch'],\n",
       " ['rwi', 'twr', 'tcasii', 'ra', 'sma', 'ft', 'downwind', 'apch'],\n",
       " ['sma', 'apch', 'smt', 'deg', 'hdg', 'acft', 'we', 'pvd']]"
      ]
     },
     "execution_count": 132,
     "metadata": {},
     "output_type": "execute_result"
    }
   ],
   "source": [
    "# Finding the top significant categories for each components in LSA:\n",
    "from collections import Counter\n",
    "Filtered_Categories = []\n",
    "for i in range(lsa.components_.shape[0]):\n",
    "    top = np.argsort(lsa.components_[i])[::-1]\n",
    "    Filtered_Categories.append([terms[top[0]],terms[top[1]], terms[top[2]],terms[top[3]],terms[top[4]],terms[top[5]],terms[top[6]],terms[top[7]]])\n",
    "    #Filtered_Categories.append([terms[top[0]],terms[top[1]], terms[top[2]],terms[top[3]]])\n",
    "Filtered_Categories"
   ]
  },
  {
   "cell_type": "code",
   "execution_count": null,
   "metadata": {},
   "outputs": [],
   "source": [
    "1. Near mid air collision, , , Pattern\n",
    "2. aircraft, error, standard, Near mid air collision,\n",
    "3. separate, \n",
    "4.\n",
    "5."
   ]
  },
  {
   "cell_type": "code",
   "execution_count": 135,
   "metadata": {},
   "outputs": [
    {
     "name": "stdout",
     "output_type": "stream",
     "text": [
      "ATC\n"
     ]
    }
   ],
   "source": [
    "lookup('atc')"
   ]
  },
  {
   "cell_type": "markdown",
   "metadata": {},
   "source": [
    "Full forms of the above abbreviations:\n",
    "1. aircaft, error, standard, system, separation, between, Less Than Standard Separation\n",
    "2. control, boston air route traffic control center, experience, operator, at, separation, standard, feet\n",
    "3. Traffic Alert and Collision Avoidance, to, alert, aircaft, Resolution Advisory, Less Than Standard Separation, assign, descdent\n",
    "4. runways, on, aircraft, approach, experience, Less Than Standard Separation, operator, error\n",
    "5. Resolution Advisory, Traffic Alert and Collision Avoidance, report, crew, aircraft, approach runway, control"
   ]
  },
  {
   "cell_type": "code",
   "execution_count": 115,
   "metadata": {},
   "outputs": [],
   "source": [
    "Location = []\n",
    "for index, row in data.iterrows():\n",
    "    Location.append([row[7],row[9]])\n",
    "    \n",
    "Location[0] = [0,0]"
   ]
  },
  {
   "cell_type": "code",
   "execution_count": 116,
   "metadata": {},
   "outputs": [],
   "source": [
    "from sklearn import preprocessing\n",
    "# normalize\n",
    "Processed_Categories = dtm_lsa\n",
    "for i in range(len(Processed_Categories[1])):\n",
    "    Processed_Categories[:,i] =  preprocessing.normalize(Processed_Categories[:,i].reshape(1,-1))\n",
    "    \n",
    "# preprocessing the data, scale the location \n",
    "Processed_Location = preprocessing.scale(Location)\n",
    "\n",
    "# Append location and categories in to final data for clustering\n",
    "Final_Set = []\n",
    "for i in range(len(Processed_Location)):\n",
    "    Final_Set.append(np.append(Processed_Categories[i],Processed_Location[i]))\n",
    "Final_Set = np.array(Final_Set)"
   ]
  },
  {
   "cell_type": "code",
   "execution_count": 117,
   "metadata": {},
   "outputs": [
    {
     "data": {
      "text/plain": [
       "array([[  1.08780743e-02,   3.43408237e-03,   6.90106835e-02, ...,\n",
       "         -6.93304085e-02,  -5.27228564e-01,  -9.71662276e-01],\n",
       "       [  2.40523684e-04,  -9.94562986e-03,  -1.15484187e-02, ...,\n",
       "         -5.62725695e-02,  -2.13763033e-01,  -6.38665407e-01],\n",
       "       [  9.00615501e-03,   4.00814795e-03,   8.58490541e-03, ...,\n",
       "         -6.67195642e-02,   2.39020512e-01,  -3.72267912e-01],\n",
       "       ..., \n",
       "       [ -1.65246588e-02,  -6.65615843e-02,   1.46827022e-02, ...,\n",
       "         -5.79476195e-02,  -4.57569557e-01,  -8.65103278e-01],\n",
       "       [  8.04799422e-02,   1.49663229e-02,   9.70572001e-03, ...,\n",
       "         -7.36481231e-03,  -1.78933529e-01,  -5.85385908e-01],\n",
       "       [ -8.05824583e-03,  -6.07283928e-02,   3.64105249e-02, ...,\n",
       "         -3.07061877e-02,  -3.18251543e-01,  -6.78625031e-01]])"
      ]
     },
     "execution_count": 117,
     "metadata": {},
     "output_type": "execute_result"
    }
   ],
   "source": [
    "Final_Set"
   ]
  },
  {
   "cell_type": "code",
   "execution_count": 89,
   "metadata": {},
   "outputs": [
    {
     "data": {
      "image/png": "[encoded data removed]",
      "text/plain": [
       "<matplotlib.figure.Figure at 0x102924cf8>"
      ]
     },
     "metadata": {},
     "output_type": "display_data"
    }
   ],
   "source": [
    "# determine # of clusters for Kmeans\n",
    "from sklearn.cluster import KMeans\n",
    "Kmean_errors = []\n",
    "for i in range(1,20):\n",
    "    kmeans = KMeans(init='k-means++', n_clusters=i, n_init=10)\n",
    "    kmeans.fit_predict(Final_Set)\n",
    "    Kmean_errors.append(kmeans.inertia_)\n",
    "    \n",
    "# Plot the graph\n",
    "import matplotlib.pyplot as plt\n",
    "plt.figure(figsize=(8,8))\n",
    "plt.plot(range(1,20),Kmean_errors)\n",
    "plt.xlabel('#_clusters')\n",
    "plt.ylabel('Kmean_Error')\n",
    "plt.show()"
   ]
  },
  {
   "cell_type": "markdown",
   "metadata": {},
   "source": [
    "5 is a resonable number of clusters"
   ]
  },
  {
   "cell_type": "code",
   "execution_count": 118,
   "metadata": {},
   "outputs": [
    {
     "name": "stdout",
     "output_type": "stream",
     "text": [
      "Top 2 terms per cluster:\n"
     ]
    },
    {
     "data": {
      "image/png": "[encoded data removed]",
      "text/plain": [
       "<matplotlib.figure.Figure at 0x10e0a73c8>"
      ]
     },
     "metadata": {},
     "output_type": "display_data"
    }
   ],
   "source": [
    "#Calculate Kmean\n",
    "from sklearn.cluster import KMeans\n",
    "kmeans = KMeans(n_clusters=5, random_state=0).fit(Final_Set)\n",
    "centroids = kmeans.cluster_centers_\n",
    "kmeans_Labels = kmeans.labels_\n",
    "asc_order_centroids = kmeans.cluster_centers_.argsort()\n",
    "order_centroids = asc_order_centroids[:,::-1]\n",
    "order_centroids = order_centroids.tolist()\n",
    "for i in range(len(order_centroids)):\n",
    "    order_centroids[i].remove(len(Filtered_Categories))\n",
    "    order_centroids[i].remove(len(Filtered_Categories) + 1)\n",
    "# Store the Kmeans Cluster Labels in K_Labels\n",
    "k_Labels = []\n",
    "for i in range(5):\n",
    "    k_Labels.append([Filtered_Categories[order_centroids[i][0]],Filtered_Categories[order_centroids[i][1]]])\n",
    "    \n",
    "#Plot Kmean\n",
    "import matplotlib.cm as cm\n",
    "print(\"Top 2 terms per cluster:\")\n",
    "#initialize plot size and colors\n",
    "plt.figure(figsize=(15,15))\n",
    "colors = cm.rainbow(np.linspace(0, 1, 15))\n",
    "plt.xlabel('Relative Distance')\n",
    "plt.ylabel('Latitude')\n",
    "\n",
    "for i in range(len(centroids)):\n",
    "    x = []\n",
    "    y = []\n",
    "    #find corresponding index in Final_Set for each cluster \n",
    "    for index in range(len(kmeans_Labels)):\n",
    "        if kmeans_Labels[index] == i:\n",
    "            x.append(Location[index][-2])\n",
    "            y.append(Location[index][-1])\n",
    "    plt.scatter(x, y, c=colors[i], label = (str(k_Labels[i][0]) + ', ' + str(k_Labels[i][1])), s=100)\n",
    "\n",
    "plt.legend(loc='upper center', bbox_to_anchor=(0.5, 1.05),\n",
    "          ncol=3, fancybox=True, shadow=True)\n",
    "plt.show()"
   ]
  },
  {
   "cell_type": "code",
   "execution_count": 97,
   "metadata": {},
   "outputs": [
    {
     "data": {
      "text/html": [
       "<div>\n",
       "<style>\n",
       "    .dataframe thead tr:only-child th {\n",
       "        text-align: right;\n",
       "    }\n",
       "\n",
       "    .dataframe thead th {\n",
       "        text-align: left;\n",
       "    }\n",
       "\n",
       "    .dataframe tbody tr th {\n",
       "        vertical-align: top;\n",
       "    }\n",
       "</style>\n",
       "<table border=\"1\" class=\"dataframe\">\n",
       "  <thead>\n",
       "    <tr style=\"text-align: right;\">\n",
       "      <th></th>\n",
       "      <th>before</th>\n",
       "      <th>after</th>\n",
       "    </tr>\n",
       "  </thead>\n",
       "  <tbody>\n",
       "    <tr>\n",
       "      <th>0</th>\n",
       "      <td>Synopsis</td>\n",
       "      <td>synopsi</td>\n",
       "    </tr>\n",
       "    <tr>\n",
       "      <th>1</th>\n",
       "      <td>HELICOPTER</td>\n",
       "      <td>helicopt</td>\n",
       "    </tr>\n",
       "    <tr>\n",
       "      <th>2</th>\n",
       "      <td>ENCOUNTERED</td>\n",
       "      <td>encount</td>\n",
       "    </tr>\n",
       "    <tr>\n",
       "      <th>3</th>\n",
       "      <td>SMA</td>\n",
       "      <td>sma</td>\n",
       "    </tr>\n",
       "    <tr>\n",
       "      <th>4</th>\n",
       "      <td>ACFT</td>\n",
       "      <td>acft</td>\n",
       "    </tr>\n",
       "  </tbody>\n",
       "</table>\n",
       "</div>"
      ],
      "text/plain": [
       "        before     after\n",
       "0     Synopsis   synopsi\n",
       "1   HELICOPTER  helicopt\n",
       "2  ENCOUNTERED   encount\n",
       "3          SMA       sma\n",
       "4         ACFT      acft"
      ]
     },
     "execution_count": 97,
     "metadata": {},
     "output_type": "execute_result"
    }
   ],
   "source": [
    "#### Save Word Reference\n",
    "word_reference = pd.DataFrame(word_data, columns=[\"before\", \"after\"])\n",
    "word_reference.head()"
   ]
  },
  {
   "cell_type": "code",
   "execution_count": 136,
   "metadata": {},
   "outputs": [],
   "source": [
    "# lookup dictionary word from the word reference\n",
    "def lookup(word):\n",
    "    for i in range(len(word_reference)):\n",
    "        if word_reference['after'][i] == word:\n",
    "            print(word_reference['before'][i])\n",
    "            break"
   ]
  },
  {
   "cell_type": "code",
   "execution_count": 124,
   "metadata": {},
   "outputs": [
    {
     "name": "stdout",
     "output_type": "stream",
     "text": [
      "ARPT\n"
     ]
    }
   ],
   "source": [
    "lookup('arpt')"
   ]
  },
  {
   "cell_type": "code",
   "execution_count": null,
   "metadata": {},
   "outputs": [],
   "source": [
    "1. midair collision sma has pattern / less than standard separation system error oppuacied\n",
    "2. aircarrier error standard midair collision / in separate standard aircraft\n",
    "3. nmac operator "
   ]
  }
 ],
 "metadata": {
  "kernelspec": {
   "display_name": "Python 3",
   "language": "python",
   "name": "python3"
  },
  "language_info": {
   "codemirror_mode": {
    "name": "ipython",
    "version": 3
   },
   "file_extension": ".py",
   "mimetype": "text/x-python",
   "name": "python",
   "nbconvert_exporter": "python",
   "pygments_lexer": "ipython3",
   "version": "3.5.1"
  }
 },
 "nbformat": 4,
 "nbformat_minor": 2
}
