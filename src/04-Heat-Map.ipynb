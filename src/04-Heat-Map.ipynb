{
 "cells": [
  {
   "cell_type": "markdown",
   "metadata": {},
   "source": [
    "# Heat Map"
   ]
  },
  {
   "cell_type": "code",
   "execution_count": 1,
   "metadata": {
    "collapsed": true
   },
   "outputs": [],
   "source": [
    "import pandas as pd\n",
    "import numpy as np\n",
    "import matplotlib.pyplot as plt\n",
    "%matplotlib inline"
   ]
  },
  {
   "cell_type": "code",
   "execution_count": 2,
   "metadata": {
    "collapsed": true
   },
   "outputs": [],
   "source": [
    "# Read stemmed report, word reference table, lsa results\n",
    "report = pd.read_csv(\"02-ASRS-stemmed.csv\", index_col=0)\n",
    "word_reference = pd.read_csv(\"02-ASRS-word-reference.csv\", index_col=0)\n",
    "\n",
    "# Word reference lookup helper\n",
    "def lookup(word):\n",
    "    for i in range(len(word_reference)):\n",
    "        if word_reference['after'][i] == word:\n",
    "            print(word_reference['before'][i])\n",
    "            break"
   ]
  },
  {
   "cell_type": "code",
   "execution_count": 3,
   "metadata": {},
   "outputs": [],
   "source": [
    "# Read original report data\n",
    "data = pd.read_csv(\"02-ASRS_DBOnline.csv\",index_col=0).reset_index()\n",
    "data = data[1:].reset_index(drop=True)"
   ]
  },
  {
   "cell_type": "code",
   "execution_count": 4,
   "metadata": {},
   "outputs": [],
   "source": [
    "df = data[['Place.5', 'Assessments.1']]\n",
    "df.columns = ['Altitude', 'Primary Problem']\n",
    "df.to_csv('04-ASRS-altitude-primary-problems.csv')\n",
    "df.head()\n",
    "df = df.dropna()\n",
    "df['Altitude'] = df['Altitude'].astype(int)"
   ]
  },
  {
   "cell_type": "code",
   "execution_count": 5,
   "metadata": {},
   "outputs": [
    {
     "name": "stdout",
     "output_type": "stream",
     "text": [
      "Primary problems: ['ATC Equipment / Nav Facility / Buildings', 'Aircraft', 'Airport', 'Airspace Structure', 'Ambiguous', 'Environment - Non Weather Related', 'Human Factors', 'Procedure', 'Staffing', 'Weather']\n",
      "Min altitude: 0\n",
      "Max altitude: 43000\n"
     ]
    }
   ],
   "source": [
    "primary_problems = df.groupby('Primary Problem').size().index.tolist()\n",
    "altitudes = df.groupby('Altitude').size().index\n",
    "print('Primary problems: {}'.format(primary_problems))\n",
    "print('Min altitude: {}'.format(min(altitudes)))\n",
    "print('Max altitude: {}'.format(max(altitudes)))"
   ]
  },
  {
   "cell_type": "code",
   "execution_count": 6,
   "metadata": {
    "collapsed": true
   },
   "outputs": [],
   "source": [
    "altitude_ranges = [range(10000), range(10000, 20000), range(20000, 30000), range(30000, 40000), range(40000, 50000)]\n",
    "df_count = pd.DataFrame(np.zeros((len(altitude_ranges), len(primary_problems))))\n",
    "df_count.columns = primary_problems\n",
    "df_count.index = ['0-10000', '10000-20000', '20000-30000', '30000-40000', '40000-50000']"
   ]
  },
  {
   "cell_type": "code",
   "execution_count": 7,
   "metadata": {},
   "outputs": [
    {
     "data": {
      "text/html": [
       "<div>\n",
       "<style>\n",
       "    .dataframe thead tr:only-child th {\n",
       "        text-align: right;\n",
       "    }\n",
       "\n",
       "    .dataframe thead th {\n",
       "        text-align: left;\n",
       "    }\n",
       "\n",
       "    .dataframe tbody tr th {\n",
       "        vertical-align: top;\n",
       "    }\n",
       "</style>\n",
       "<table border=\"1\" class=\"dataframe\">\n",
       "  <thead>\n",
       "    <tr style=\"text-align: right;\">\n",
       "      <th></th>\n",
       "      <th>ATC Equipment / Nav Facility / Buildings</th>\n",
       "      <th>Aircraft</th>\n",
       "      <th>Airport</th>\n",
       "      <th>Airspace Structure</th>\n",
       "      <th>Ambiguous</th>\n",
       "      <th>Environment - Non Weather Related</th>\n",
       "      <th>Human Factors</th>\n",
       "      <th>Procedure</th>\n",
       "      <th>Staffing</th>\n",
       "      <th>Weather</th>\n",
       "    </tr>\n",
       "  </thead>\n",
       "  <tbody>\n",
       "    <tr>\n",
       "      <th>0-10000</th>\n",
       "      <td>3.0</td>\n",
       "      <td>16.0</td>\n",
       "      <td>1.0</td>\n",
       "      <td>7.0</td>\n",
       "      <td>45.0</td>\n",
       "      <td>2.0</td>\n",
       "      <td>437.0</td>\n",
       "      <td>20.0</td>\n",
       "      <td>1.0</td>\n",
       "      <td>2.0</td>\n",
       "    </tr>\n",
       "    <tr>\n",
       "      <th>10000-20000</th>\n",
       "      <td>1.0</td>\n",
       "      <td>4.0</td>\n",
       "      <td>0.0</td>\n",
       "      <td>0.0</td>\n",
       "      <td>8.0</td>\n",
       "      <td>0.0</td>\n",
       "      <td>113.0</td>\n",
       "      <td>5.0</td>\n",
       "      <td>0.0</td>\n",
       "      <td>2.0</td>\n",
       "    </tr>\n",
       "    <tr>\n",
       "      <th>20000-30000</th>\n",
       "      <td>0.0</td>\n",
       "      <td>1.0</td>\n",
       "      <td>0.0</td>\n",
       "      <td>0.0</td>\n",
       "      <td>1.0</td>\n",
       "      <td>0.0</td>\n",
       "      <td>44.0</td>\n",
       "      <td>4.0</td>\n",
       "      <td>0.0</td>\n",
       "      <td>1.0</td>\n",
       "    </tr>\n",
       "    <tr>\n",
       "      <th>30000-40000</th>\n",
       "      <td>0.0</td>\n",
       "      <td>0.0</td>\n",
       "      <td>0.0</td>\n",
       "      <td>1.0</td>\n",
       "      <td>1.0</td>\n",
       "      <td>0.0</td>\n",
       "      <td>17.0</td>\n",
       "      <td>1.0</td>\n",
       "      <td>0.0</td>\n",
       "      <td>0.0</td>\n",
       "    </tr>\n",
       "    <tr>\n",
       "      <th>40000-50000</th>\n",
       "      <td>0.0</td>\n",
       "      <td>0.0</td>\n",
       "      <td>0.0</td>\n",
       "      <td>0.0</td>\n",
       "      <td>0.0</td>\n",
       "      <td>0.0</td>\n",
       "      <td>2.0</td>\n",
       "      <td>0.0</td>\n",
       "      <td>0.0</td>\n",
       "      <td>0.0</td>\n",
       "    </tr>\n",
       "  </tbody>\n",
       "</table>\n",
       "</div>"
      ],
      "text/plain": [
       "             ATC Equipment / Nav Facility / Buildings  Aircraft  Airport  \\\n",
       "0-10000                                           3.0      16.0      1.0   \n",
       "10000-20000                                       1.0       4.0      0.0   \n",
       "20000-30000                                       0.0       1.0      0.0   \n",
       "30000-40000                                       0.0       0.0      0.0   \n",
       "40000-50000                                       0.0       0.0      0.0   \n",
       "\n",
       "             Airspace Structure  Ambiguous  Environment - Non Weather Related  \\\n",
       "0-10000                     7.0       45.0                                2.0   \n",
       "10000-20000                 0.0        8.0                                0.0   \n",
       "20000-30000                 0.0        1.0                                0.0   \n",
       "30000-40000                 1.0        1.0                                0.0   \n",
       "40000-50000                 0.0        0.0                                0.0   \n",
       "\n",
       "             Human Factors  Procedure  Staffing  Weather  \n",
       "0-10000              437.0       20.0       1.0      2.0  \n",
       "10000-20000          113.0        5.0       0.0      2.0  \n",
       "20000-30000           44.0        4.0       0.0      1.0  \n",
       "30000-40000           17.0        1.0       0.0      0.0  \n",
       "40000-50000            2.0        0.0       0.0      0.0  "
      ]
     },
     "execution_count": 7,
     "metadata": {},
     "output_type": "execute_result"
    }
   ],
   "source": [
    "for index, row in df.iterrows():\n",
    "    alt = int(row['Altitude'])\n",
    "    p = row['Primary Problem']\n",
    "    for i in range(len(altitude_ranges)):\n",
    "        if alt in altitude_ranges[i]:\n",
    "            df_count.iloc[i][p] += 1\n",
    "df_count"
   ]
  },
  {
   "cell_type": "code",
   "execution_count": 8,
   "metadata": {},
   "outputs": [
    {
     "data": {
      "text/plain": [
       "<matplotlib.figure.Figure at 0x10c9b78d0>"
      ]
     },
     "metadata": {},
     "output_type": "display_data"
    },
    {
     "data": {
      "image/png": "[encoded data removed]",
      "text/plain": [
       "<matplotlib.figure.Figure at 0x10c9b7898>"
      ]
     },
     "metadata": {},
     "output_type": "display_data"
    }
   ],
   "source": [
    "plt.figure(figsize=(20, 20))\n",
    "plt.matshow(df_count.values, cmap=plt.cm.Blues)\n",
    "plt.xticks(np.arange(df_count.shape[1]), df_count.columns.tolist(), rotation='vertical')\n",
    "plt.yticks(np.arange(df_count.shape[0]), df_count.index.tolist());"
   ]
  },
  {
   "cell_type": "code",
   "execution_count": 9,
   "metadata": {
    "collapsed": true
   },
   "outputs": [],
   "source": [
    "df_count_nonhumans = df_count.drop('Human Factors', axis=1)"
   ]
  },
  {
   "cell_type": "code",
   "execution_count": 10,
   "metadata": {},
   "outputs": [
    {
     "data": {
      "text/plain": [
       "<matplotlib.figure.Figure at 0x10d32dc18>"
      ]
     },
     "metadata": {},
     "output_type": "display_data"
    },
    {
     "data": {
      "image/png": "[encoded data removed]",
      "text/plain": [
       "<matplotlib.figure.Figure at 0x10d32da20>"
      ]
     },
     "metadata": {},
     "output_type": "display_data"
    }
   ],
   "source": [
    "plt.figure(figsize=(20, 20))\n",
    "plt.matshow(df_count_nonhumans.values, cmap=plt.cm.Blues)\n",
    "plt.xticks(np.arange(df_count_nonhumans.shape[1]), df_count_nonhumans.columns.tolist(), rotation='vertical')\n",
    "plt.yticks(np.arange(df_count_nonhumans.shape[0]), df_count_nonhumans.index.tolist());"
   ]
  }
 ],
 "metadata": {
  "kernelspec": {
   "display_name": "Python 3",
   "language": "python",
   "name": "python3"
  },
  "language_info": {
   "codemirror_mode": {
    "name": "ipython",
    "version": 3
   },
   "file_extension": ".py",
   "mimetype": "text/x-python",
   "name": "python",
   "nbconvert_exporter": "python",
   "pygments_lexer": "ipython3",
   "version": "3.6.1"
  }
 },
 "nbformat": 4,
 "nbformat_minor": 2
}
